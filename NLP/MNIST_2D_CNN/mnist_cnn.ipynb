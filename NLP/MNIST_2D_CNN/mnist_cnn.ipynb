{
  "cells": [
    {
      "cell_type": "markdown",
      "metadata": {
        "id": "SPr8OReRKwDr"
      },
      "source": [
        " **Importing Necessary Packages**"
      ]
    },
    {
      "cell_type": "code",
      "execution_count": 128,
      "metadata": {
        "id": "zR7hjKdvKu6H"
      },
      "outputs": [],
      "source": [
        "import matplotlib.pyplot as plt\n",
        "from keras.datasets import mnist\n",
        "from keras.models import Sequential\n",
        "from keras.layers import Dense, Conv2D, Flatten\n",
        "from keras.layers import Activation\n",
        "import tensorflow as tf"
      ]
    },
    {
      "cell_type": "markdown",
      "metadata": {
        "id": "U779NauFK-sS"
      },
      "source": [
        "**Importing MNIST Dataset**"
      ]
    },
    {
      "cell_type": "code",
      "execution_count": 129,
      "metadata": {
        "id": "le9PqlAv-ZYt"
      },
      "outputs": [],
      "source": [
        "#download mnist data and split into train and test sets\n",
        "\n",
        "(X_train, y_train), (X_test, y_test) = mnist.load_data()"
      ]
    },
    {
      "cell_type": "markdown",
      "metadata": {
        "id": "JAsw0i3xLH5G"
      },
      "source": [
        "**See a Sample Image in the dataset along with its shape and label/annotation**\n"
      ]
    },
    {
      "cell_type": "code",
      "execution_count": 130,
      "metadata": {
        "colab": {
          "base_uri": "https://localhost:8080/",
          "height": 447
        },
        "id": "nLUPcmMy_CM1",
        "outputId": "dcd014b4-d290-4358-e2b7-0a8f831aa26d"
      },
      "outputs": [
        {
          "name": "stdout",
          "output_type": "stream",
          "text": [
            "Image Shape: (28, 28) Label: 0\n"
          ]
        },
        {
          "data": {
            "image/png": "[encoded data removed]",
            "text/plain": [
              "<Figure size 640x480 with 1 Axes>"
            ]
          },
          "metadata": {},
          "output_type": "display_data"
        }
      ],
      "source": [
        "#plot the first image in the dataset\n",
        "plt.imshow(X_train[5])\n",
        "#check image shape\n",
        "print(\"Image Shape:\",X_train[1].shape, \"Label:\", y_train[1])\n",
        "\n"
      ]
    },
    {
      "cell_type": "markdown",
      "metadata": {
        "id": "_7mEw0doLeaI"
      },
      "source": [
        "**Reshaping the data to represent 1-channel**"
      ]
    },
    {
      "cell_type": "code",
      "execution_count": 131,
      "metadata": {
        "colab": {
          "base_uri": "https://localhost:8080/"
        },
        "id": "yRSU7sXTAb3v",
        "outputId": "44c0817a-3efc-4eea-f573-1218a09bd10f"
      },
      "outputs": [
        {
          "name": "stdout",
          "output_type": "stream",
          "text": [
            "Original Shape: (28, 28)\n",
            "Modified Shape: (28, 28, 1)\n"
          ]
        }
      ],
      "source": [
        "#reshape data to fit model\n",
        "\n",
        "print(\"Original Shape:\",X_train[0].shape)\n",
        "X_train = X_train.reshape(60000,28,28,1)\n",
        "X_test = X_test.reshape(10000,28,28,1)\n",
        "print(\"Modified Shape:\",X_train[0].shape)"
      ]
    },
    {
      "cell_type": "markdown",
      "metadata": {
        "id": "yZfvUeD0MKxQ"
      },
      "source": [
        "**Change Labels to categorical for categorical-crossentropy loss**"
      ]
    },
    {
      "cell_type": "code",
      "execution_count": 132,
      "metadata": {
        "colab": {
          "base_uri": "https://localhost:8080/"
        },
        "id": "R7uwA1ssBQfP",
        "outputId": "325a92c5-b14e-47c1-8500-f545d1561652"
      },
      "outputs": [
        {
          "data": {
            "text/plain": [
              "array([0., 0., 0., 1., 0., 0., 0., 0., 0., 0.], dtype=float32)"
            ]
          },
          "execution_count": 132,
          "metadata": {},
          "output_type": "execute_result"
        }
      ],
      "source": [
        "from keras.utils import to_categorical\n",
        "#one-hot encode target column\n",
        "y_train = to_categorical(y_train)\n",
        "y_test = to_categorical(y_test)\n",
        "y_train[7]"
      ]
    },
    {
      "cell_type": "markdown",
      "metadata": {
        "id": "VdQBhOG0Veti"
      },
      "source": [
        "**You CNN Model**"
      ]
    },
    {
      "cell_type": "code",
      "execution_count": 133,
      "metadata": {
        "id": "2l6du7qNC4rP"
      },
      "outputs": [],
      "source": [
        "from keras.models import Sequential\n",
        "from keras.layers import Dense, Conv2D, Flatten\n",
        "from keras.layers import Activation\n",
        "from keras.utils import to_categorical\n",
        "#create model\n",
        "# model = Sequential()\n",
        "# #add model layers\n",
        "# model.add(Conv2D(64, kernel_size=6,activation='relu', input_shape=(28,28,1)))  #activation=tf.nn.relu\n",
        "# #model.add(Conv2D(128, kernel_size=6,activation='relu', input_shape=(28,28,1)))  #activation=tf.nn.relu\n",
        "\n",
        "# #added another convolution layer\n",
        "# #model.add(Conv2D(32, kernel_size=3, activation='relu'))\n",
        "\n",
        "# model.add(Conv2D(32, kernel_size=6, activation='relu'))\n",
        "# #model.add(Conv2D(64, kernel_size=6, activation='relu'))\n",
        "# model.add(Flatten())\n",
        "# model.add(Dense(10, activation='softmax'))\n",
        "\n",
        "#sigmoid activation\n",
        "# Create model\n",
        "#model_sigmoid = Sequential()\n",
        "\n",
        "# Add model layers with sigmoid activation\n",
        "#model_sigmoid.add(Conv2D(64, kernel_size=3, activation='sigmoid', input_shape=(28, 28, 1)))\n",
        "#model_sigmoid.add(Conv2D(32, kernel_size=3, activation='sigmoid'))\n",
        "#model_sigmoid.add(Flatten())\n",
        "#model_sigmoid.add(Dense(10, activation='softmax'))\n",
        "\n",
        "\n",
        "# # #TanH activation\n",
        "# # Create model\n",
        "# model_tanh = Sequential()\n",
        "\n",
        "# # # Add model layers with tanh activation\n",
        "# model_tanh.add(Conv2D(64, kernel_size=3, activation='tanh', input_shape=(28, 28, 1)))\n",
        "# model_tanh.add(Conv2D(32, kernel_size=3, activation='tanh'))\n",
        "# model_tanh.add(Flatten())\n",
        "# model_tanh.add(Dense(10, activation='softmax'))\n",
        "\n",
        "\n",
        "# Create model\n",
        "model_softplus = Sequential()\n",
        "\n",
        "# Add model layers with softplus activation\n",
        "model_softplus.add(Conv2D(64, kernel_size=3, activation='softplus', input_shape=(28, 28, 1)))\n",
        "model_softplus.add(Conv2D(32, kernel_size=3, activation='softplus'))\n",
        "model_softplus.add(Flatten())\n",
        "model_softplus.add(Dense(10, activation='softmax'))"
      ]
    },
    {
      "cell_type": "markdown",
      "metadata": {
        "id": "uzbW4gbgVkJn"
      },
      "source": [
        "**Compile your model with correct hyperparameters before you can train and test it**"
      ]
    },
    {
      "cell_type": "code",
      "execution_count": 134,
      "metadata": {
        "id": "WcbOhyo1N7_I"
      },
      "outputs": [],
      "source": [
        "#compile model using accuracy to measure model performance\n",
        "#model.compile(optimizer=tf.keras.optimizers.Adam(learning_rate=0.001), loss='categorical_crossentropy', metrics=['accuracy'])\n",
        "#model.compile(optimizer=tf.keras.optimizers.Adam(learning_rate=0.01), loss='categorical_crossentropy', metrics=['accuracy'])\n",
        "#model.compile(optimizer=tf.keras.optimizers.Adam(learning_rate=0.25), loss='categorical_crossentropy', metrics=['accuracy'])\n",
        "#model.compile(optimizer=tf.keras.optimizers.Adam(learning_rate=0.50), loss='categorical_crossentropy', metrics=['accuracy'])\n",
        "\n",
        "#sigmoid activation\n",
        "#model_sigmoid.compile(optimizer=tf.keras.optimizers.Adam(learning_rate=0.001), loss='categorical_crossentropy', metrics=['accuracy'])\n",
        "\n",
        "#Compile model\n",
        "#model_tanh.compile(optimizer=tf.keras.optimizers.Adam(learning_rate=0.001), loss='categorical_crossentropy', metrics=['accuracy'])\n",
        "\n",
        "# Compile model\n",
        "model_softplus.compile(optimizer=tf.keras.optimizers.Adam(learning_rate=0.001), loss='categorical_crossentropy', metrics=['accuracy'])"
      ]
    },
    {
      "cell_type": "markdown",
      "metadata": {
        "id": "L4xgegngVr55"
      },
      "source": [
        "**Now, let's train the model with correct hyperparameters. The validation data will test the model after each epoch**"
      ]
    },
    {
      "cell_type": "code",
      "execution_count": 135,
      "metadata": {
        "colab": {
          "base_uri": "https://localhost:8080/"
        },
        "id": "0LTFolXtOAHN",
        "outputId": "2171681e-e7e3-412f-ed35-9fc6e2ece17a"
      },
      "outputs": [],
      "source": [
        "#train the model\n",
        "#model.fit(X_train, y_train, validation_data=(X_test, y_test), epochs=2, batch_size=1)"
      ]
    },
    {
      "cell_type": "markdown",
      "metadata": {
        "id": "lLnFpU6KV0JK"
      },
      "source": [
        "**Testing the Trained model**"
      ]
    },
    {
      "cell_type": "code",
      "execution_count": 136,
      "metadata": {
        "colab": {
          "base_uri": "https://localhost:8080/"
        },
        "id": "mlEfFRV-QhF2",
        "outputId": "65919037-3a45-4a84-935f-f3235ae47c3b"
      },
      "outputs": [
        {
          "name": "stdout",
          "output_type": "stream",
          "text": [
            "Model: \"sequential_7\"\n",
            "_________________________________________________________________\n",
            " Layer (type)                Output Shape              Param #   \n",
            "=================================================================\n",
            " conv2d_15 (Conv2D)          (None, 23, 23, 64)        2368      \n",
            "                                                                 \n",
            " conv2d_16 (Conv2D)          (None, 18, 18, 32)        73760     \n",
            "                                                                 \n",
            " flatten_7 (Flatten)         (None, 10368)             0         \n",
            "                                                                 \n",
            " dense_7 (Dense)             (None, 10)                103690    \n",
            "                                                                 \n",
            "=================================================================\n",
            "Total params: 179,818\n",
            "Trainable params: 179,818\n",
            "Non-trainable params: 0\n",
            "_________________________________________________________________\n"
          ]
        }
      ],
      "source": [
        "model.summary()"
      ]
    },
    {
      "cell_type": "code",
      "execution_count": 137,
      "metadata": {},
      "outputs": [
        {
          "name": "stdout",
          "output_type": "stream",
          "text": [
            "Epoch 1/2\n",
            "30000/30000 [==============================] - 90s 3ms/step - loss: 2.5662 - accuracy: 0.0984 - val_loss: 2.4374 - val_accuracy: 0.0982\n",
            "Epoch 2/2\n",
            "30000/30000 [==============================] - 90s 3ms/step - loss: 2.5675 - accuracy: 0.1011 - val_loss: 2.4249 - val_accuracy: 0.0980\n",
            "dict_keys(['loss', 'accuracy', 'val_loss', 'val_accuracy'])\n"
          ]
        },
        {
          "data": {
            "image/png": "[encoded data removed]",
            "text/plain": [
              "<Figure size 1000x600 with 1 Axes>"
            ]
          },
          "metadata": {},
          "output_type": "display_data"
        }
      ],
      "source": [
        "import matplotlib.pyplot as plt\n",
        "\n",
        "#A\n",
        "#history = model.fit(X_train, y_train, validation_data=(X_test, y_test), epochs=1, batch_size=1)\n",
        "\n",
        "#changed epoch to 2\n",
        "#history = model.fit(X_train, y_train, validation_data=(X_test, y_test), epochs=2, batch_size=1)\n",
        "\n",
        "#changed epoch to 3\n",
        "#history = model.fit(X_train, y_train, validation_data=(X_test, y_test), epochs=3, batch_size=1)\n",
        "\n",
        "#note I changed the batch size to 2 in efforts to get this revised version submitted in time\n",
        "history = model.fit(X_train, y_train, validation_data=(X_test, y_test), epochs=2, batch_size=2)\n",
        "\n",
        "#B Add Binary Cross Entropy\n",
        "\n",
        "#changed batch size to 2 in efforts of saving time\n",
        "#C Add another convolution layer\n",
        "\n",
        "#D Change the kernel size of the convolution layers\n",
        "#changed kernel size to 6\n",
        "# model.add(Conv2D(64, kernel_size=6,activation='relu', input_shape=(28,28,1)))  #activation=tf.nn.relu\n",
        "# model.add(Conv2D(32, kernel_size=6, activation='relu'))\n",
        "\n",
        "#E Change the no. filters of the convolution layers\n",
        "#model.add(Conv2D(128, kernel_size=6,activation='relu', input_shape=(28,28,1)))  #activation=tf.nn.relu\n",
        "#model.add(Conv2D(64, kernel_size=6, activation='relu'))\n",
        "\n",
        "#F Change the Learning Rate (try 3 different values)\n",
        "# 0.01\n",
        "# 0.25\n",
        "# 0.50\n",
        "\n",
        "\n",
        "#G Change the batch size\n",
        "#history = model.fit(X_train, y_train, validation_data=(X_test, y_test), epochs=2, batch_size=2)\n",
        "\n",
        "#history = model.fit(X_train, y_train, validation_data=(X_test, y_test), epochs=2, batch_size=4)\n",
        "\n",
        "#history = model.fit(X_train, y_train, validation_data=(X_test, y_test), epochs=2, batch_size=12)\n",
        "\n",
        "#H Change the activation functions (try 3 different values)\n",
        "#sigmoid\n",
        "#tanh\n",
        "#softplus\n",
        "\n",
        "\n",
        "# Verify the history object\n",
        "print(history.history.keys())\n",
        "\n",
        "# Extract loss values from the history object\n",
        "training_loss = history.history['loss']\n",
        "testing_loss = history.history['val_loss']\n",
        "epochs = range(1, len(training_loss) + 1)\n",
        "\n",
        "# Plotting the training and testing loss\n",
        "plt.figure(figsize=(10, 6))\n",
        "plt.plot(epochs, training_loss, label='Training Loss')\n",
        "plt.plot(epochs, testing_loss, label='Testing Loss')\n",
        "\n",
        "# Adding titles and labels\n",
        "plt.title('Training and Testing Loss')\n",
        "plt.xlabel('Epochs')\n",
        "plt.ylabel('Loss')\n",
        "plt.legend()\n",
        "\n",
        "# Display the plot\n",
        "plt.show()\n"
      ]
    },
    {
      "cell_type": "code",
      "execution_count": 30,
      "metadata": {},
      "outputs": [
        {
          "name": "stdout",
          "output_type": "stream",
          "text": [
            "1/1 [==============================] - 0s 79ms/step\n",
            "Predicted probabilities:\n",
            "[[1.19858026e-10 6.64092045e-13 9.91778215e-10 5.74074642e-11\n",
            "  3.12152566e-13 1.36286219e-12 5.44188295e-17 1.00000000e+00\n",
            "  9.30306110e-10 6.06875350e-09]\n",
            " [6.27225605e-09 1.60928334e-06 9.99997139e-01 1.71062418e-08\n",
            "  1.66926837e-11 8.40410911e-14 3.72725509e-07 4.13262361e-14\n",
            "  8.26867847e-07 1.12394645e-13]\n",
            " [2.25544277e-08 9.99854803e-01 1.31893989e-06 5.00170261e-09\n",
            "  8.36187780e-07 4.10807019e-07 7.95511653e-07 5.40435821e-08\n",
            "  1.41727825e-04 3.49753476e-10]\n",
            " [9.99999762e-01 3.92813549e-13 1.43072381e-08 1.82231147e-10\n",
            "  1.25703705e-08 1.73232118e-09 2.30024028e-07 9.95874715e-13\n",
            "  2.00306730e-10 2.97433544e-08]]\n",
            "Predicted classes:\n",
            "[7 2 1 0]\n"
          ]
        },
        {
          "data": {
            "image/png": "[encoded data removed]",
            "text/plain": [
              "<Figure size 640x480 with 1 Axes>"
            ]
          },
          "metadata": {},
          "output_type": "display_data"
        },
        {
          "data": {
            "image/png": "[encoded data removed]",
            "text/plain": [
              "<Figure size 640x480 with 1 Axes>"
            ]
          },
          "metadata": {},
          "output_type": "display_data"
        },
        {
          "data": {
            "image/png": "[encoded data removed]",
            "text/plain": [
              "<Figure size 640x480 with 1 Axes>"
            ]
          },
          "metadata": {},
          "output_type": "display_data"
        },
        {
          "data": {
            "image/png": "[encoded data removed]",
            "text/plain": [
              "<Figure size 640x480 with 1 Axes>"
            ]
          },
          "metadata": {},
          "output_type": "display_data"
        }
      ],
      "source": [
        "#predict first 4 images in the test set\n",
        "import numpy as np\n",
        "\n",
        "# Predict the first 4 images in the test set\n",
        "predictions = model.predict(X_test[:4])\n",
        "\n",
        "# Display the predictions\n",
        "print(\"Predicted probabilities:\")\n",
        "print(predictions)\n",
        "\n",
        "# If the task is a multi-class classification (e.g., MNIST), get the predicted class\n",
        "predicted_classes = np.argmax(predictions, axis=1)\n",
        "print(\"Predicted classes:\")\n",
        "print(predicted_classes)\n",
        "\n",
        "# Optionally, you can display the actual images along with the predictions\n",
        "import matplotlib.pyplot as plt\n",
        "\n",
        "for i in range(4):\n",
        "    plt.imshow(X_test[i].reshape(28, 28), cmap='gray')\n",
        "    plt.title(f\"Predicted: {predicted_classes[i]}\")\n",
        "    plt.show()\n"
      ]
    }
  ],
  "metadata": {
    "colab": {
      "provenance": []
    },
    "kernelspec": {
      "display_name": "Python 3",
      "name": "python3"
    },
    "language_info": {
      "codemirror_mode": {
        "name": "ipython",
        "version": 3
      },
      "file_extension": ".py",
      "mimetype": "text/x-python",
      "name": "python",
      "nbconvert_exporter": "python",
      "pygments_lexer": "ipython3",
      "version": "3.9.19"
    }
  },
  "nbformat": 4,
  "nbformat_minor": 0
}
