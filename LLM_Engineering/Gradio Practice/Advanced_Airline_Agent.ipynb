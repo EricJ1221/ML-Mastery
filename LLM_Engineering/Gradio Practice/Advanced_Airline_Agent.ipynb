{
 "cells": [
  {
   "cell_type": "markdown",
   "metadata": {},
   "source": [
    "Airline AI Assistant - this is an extension of a previous project \"Airline Agent\". \n",
    "- In this notebook I will be creating another Agent to Translate all the responses into a different language.\n",
    "- Adding more tools to handle booking a flight"
   ]
  },
  {
   "cell_type": "code",
   "execution_count": 184,
   "metadata": {},
   "outputs": [],
   "source": [
    "import os\n",
    "import json\n",
    "from dotenv import load_dotenv\n",
    "from openai import OpenAI\n",
    "import gradio as gr"
   ]
  },
  {
   "cell_type": "markdown",
   "metadata": {},
   "source": [
    "Load in the API keys"
   ]
  },
  {
   "cell_type": "code",
   "execution_count": 185,
   "metadata": {},
   "outputs": [
    {
     "name": "stdout",
     "output_type": "stream",
     "text": [
      "OpenAI API Key exists and begins sk-proj-\n"
     ]
    }
   ],
   "source": [
    "load_dotenv()\n",
    "\n",
    "openai_api_key = os.getenv('OPENAI_API_KEY')\n",
    "if openai_api_key:\n",
    "    print(f\"OpenAI API Key exists and begins {openai_api_key[:8]}\")\n",
    "else:\n",
    "    print(\"OpenAI API Key not set\")\n",
    "    \n",
    "MODEL = \"gpt-4o-mini\"\n",
    "openai = OpenAI()"
   ]
  },
  {
   "cell_type": "markdown",
   "metadata": {},
   "source": [
    "System Prompts"
   ]
  },
  {
   "cell_type": "code",
   "execution_count": 236,
   "metadata": {},
   "outputs": [],
   "source": [
    "system_message = \"You are a helpful assistant for an Airline called FlightAI. \"\n",
    "system_message += \"Give short, courteous answers, no more than 1 sentence. \"\n",
    "system_message += \"Always be accurate. If you don't know the answer, say so.\"\n",
    "system_message += \"If a flight is not available on a certain date, say that it is not available.\"\n",
    "# system_message += \"If a flight is available on a certain date, and the customer requests to book it, say here is your ticket, have a nice flight.\"\n",
    "\n",
    "# This last system message is a good way to ensure the agent does not hallucinate"
   ]
  },
  {
   "cell_type": "markdown",
   "metadata": {},
   "source": [
    "Forcing dark mode in Gradio"
   ]
  },
  {
   "cell_type": "code",
   "execution_count": 274,
   "metadata": {},
   "outputs": [],
   "source": [
    "force_dark_mode = \"\"\"\n",
    "function refresh() {\n",
    "    const url = new URL(window.location);\n",
    "    if (url.searchParams.get('__theme') !== 'dark') {\n",
    "        url.searchParams.set('__theme', 'dark');\n",
    "        window.location.href = url.href;\n",
    "    }\n",
    "}\n",
    "\"\"\""
   ]
  },
  {
   "cell_type": "markdown",
   "metadata": {},
   "source": [
    "#### Tools\n",
    "- Tools are an incredibly powerful feature provided by the frontier LLMs.\n",
    "- With tools, you can write a function, and have the LLM call that function as part of its response.\n",
    "- Sounds almost spooky.. we're giving it the power to run code on our machine? Well, kinda."
   ]
  },
  {
   "cell_type": "code",
   "execution_count": 275,
   "metadata": {},
   "outputs": [],
   "source": [
    "ticket_prices = {\n",
    "    \"london\": \"$799\", \n",
    "    \"paris\": \"$899\", \n",
    "    \"tokyo\": \"$1400\", \n",
    "    \"berlin\": \"$499\"\n",
    "}\n",
    "\n",
    "def get_ticket_price(destination_city):\n",
    "    print(f\"Tool get_ticket_price called for {destination_city}\")\n",
    "    city = destination_city.lower()\n",
    "    return ticket_prices.get(city, \"Unknown\")"
   ]
  },
  {
   "cell_type": "code",
   "execution_count": 276,
   "metadata": {},
   "outputs": [],
   "source": [
    "ticket_availability = {\n",
    "    \"london\": [\"11th\", \"12th\"],\n",
    "    \"paris\": [\"13th\", \"14th\"],\n",
    "    \"tokyo\": [\"15th\", \"16th\"],\n",
    "    \"berlin\": [\"13th\", \"14th\"]\n",
    "}\n",
    "\n",
    "\n",
    "def get_ticket_availability(destination_city):\n",
    "    print(f\"Tool get_ticket_dates called for {destination_city}\")\n",
    "    city = destination_city.lower()\n",
    "    return ticket_availability.get(city, \"Unknown\")"
   ]
  },
  {
   "cell_type": "code",
   "execution_count": 277,
   "metadata": {},
   "outputs": [],
   "source": [
    "# import random\n",
    "\n",
    "# def book_flight(destination_city):\n",
    "#     \"\"\"\n",
    "#     Simulates booking a flight and returns a confirmation number.\n",
    "#     \"\"\"\n",
    "#     city = destination_city.lower()\n",
    "#     print(f\"Attempting to book flight for {destination_city} on {get_ticket_availability(destination_city)} for the price of {get_ticket_price(destination_city)}.\")\n",
    "    \n",
    "#     # # Simulating a booking process (Replace with real API calls if needed)\n",
    "#     # if not destination_city or not get_ticket_availability(destination_city):\n",
    "#     #     return {\"status\": \"error\", \"message\": \"There is no flight available on that date.\"}\n",
    "    \n",
    "#     confirmation_number = f\"FLIGHT-{random.randint(100000, 999999)}\"\n",
    "#     return {\n",
    "#         \"status\": \"success\",\n",
    "#         \"confirmation_number\": confirmation_number,\n",
    "#         \"destination_city\": destination_city,\n",
    "#         \"ticket_availability\": get_ticket_availability(destination_city),\n",
    "#         \"ticket_price\": get_ticket_price(destination_city)\n",
    "#     }"
   ]
  },
  {
   "cell_type": "code",
   "execution_count": 278,
   "metadata": {},
   "outputs": [],
   "source": [
    "import random\n",
    "\n",
    "def book_flight(destination_city):\n",
    "    print(f\"Tool to book a flight for {destination_city}\")\n",
    "    city = destination_city.lower()\n",
    "    availability = ticket_availability.get(city, \"Unknown\")\n",
    "    price =ticket_prices.get(city, \"Unknown\")\n",
    "    \n",
    "    confirmation_number = f\"FLIGHT-{random.randint(100000, 999999)}\"\n",
    "    \n",
    "    return {\n",
    "        \"status\": \"success\",\n",
    "        \"confirmation_number\": confirmation_number,\n",
    "        \"destination_city\": destination_city,\n",
    "        \"ticket_availability\": availability,\n",
    "        \"ticket_price\": price\n",
    "    }"
   ]
  },
  {
   "cell_type": "code",
   "execution_count": 279,
   "metadata": {},
   "outputs": [
    {
     "name": "stdout",
     "output_type": "stream",
     "text": [
      "Tool to book a flight for Berlin\n"
     ]
    },
    {
     "data": {
      "text/plain": [
       "{'status': 'success',\n",
       " 'confirmation_number': 'FLIGHT-992700',\n",
       " 'destination_city': 'Berlin',\n",
       " 'ticket_availability': ['13th', '14th'],\n",
       " 'ticket_price': '$499'}"
      ]
     },
     "execution_count": 279,
     "metadata": {},
     "output_type": "execute_result"
    }
   ],
   "source": [
    "book_flight(\"Berlin\")"
   ]
  },
  {
   "cell_type": "code",
   "execution_count": 280,
   "metadata": {},
   "outputs": [
    {
     "name": "stdout",
     "output_type": "stream",
     "text": [
      "Tool get_ticket_price called for Berlin\n"
     ]
    },
    {
     "data": {
      "text/plain": [
       "'$499'"
      ]
     },
     "execution_count": 280,
     "metadata": {},
     "output_type": "execute_result"
    }
   ],
   "source": [
    "get_ticket_price(\"Berlin\")"
   ]
  },
  {
   "cell_type": "code",
   "execution_count": 281,
   "metadata": {},
   "outputs": [
    {
     "name": "stdout",
     "output_type": "stream",
     "text": [
      "Tool get_ticket_dates called for Berlin\n"
     ]
    },
    {
     "data": {
      "text/plain": [
       "['13th', '14th']"
      ]
     },
     "execution_count": 281,
     "metadata": {},
     "output_type": "execute_result"
    }
   ],
   "source": [
    "get_ticket_availability(\"Berlin\")"
   ]
  },
  {
   "cell_type": "code",
   "execution_count": 282,
   "metadata": {},
   "outputs": [],
   "source": [
    "price_function = {\n",
    "    \"name\": \"get_ticket_price\",\n",
    "    \"description\": \"Get the price of a ticket to the destination city. Call this whenever you need to know the ticket price, for example when a customer asks 'How much is a ticket to this city'\",\n",
    "    \"parameters\": {\n",
    "        \"type\": \"object\",\n",
    "        \"properties\": {\n",
    "            \"destination_city\": {\n",
    "                \"type\": \"string\",\n",
    "                \"description\": \"The city that the customer wants to travel to\",\n",
    "            },\n",
    "        },\n",
    "        \"required\": [\"destination_city\"],\n",
    "        \"additionalProperties\": False\n",
    "    }\n",
    "}"
   ]
  },
  {
   "cell_type": "code",
   "execution_count": 283,
   "metadata": {},
   "outputs": [],
   "source": [
    "availability_function = {\n",
    "    \"name\": \"get_ticket_availability\",\n",
    "    \"description\": \"Call this whenever you need to know the date of a flight to a particular city, for example when a customer asks 'Are there any available flights to this city?'\",\n",
    "    \"parameters\": {\n",
    "        \"type\": \"object\",\n",
    "        \"properties\": {\n",
    "            \"destination_city\": {\n",
    "                \"type\": \"string\",\n",
    "                \"description\": \"The city that the customer wants to travel to\",\n",
    "            },\n",
    "        },\n",
    "        \"required\": [\"destination_city\"],\n",
    "        \"additionalProperties\": False\n",
    "    }\n",
    "}"
   ]
  },
  {
   "cell_type": "code",
   "execution_count": null,
   "metadata": {},
   "outputs": [],
   "source": [
    "book_flight_function = {\n",
    "    \"name\": \"book_flight\",\n",
    "    \"description\": \"Call this whenever you need to book a flight for a customer, for example when a customer says 'I would like to book a flight to this city on this date.'\",\n",
    "    \"parameters\": {\n",
    "        \"type\": \"object\",\n",
    "        \"properties\": {\n",
    "            \"destination_city\": {\n",
    "                \"type\": \"string\",\n",
    "                \"description\": \"The city that the customer wants to travel to\",\n",
    "            },\n",
    "        },\n",
    "        \"required\": [\"destination_city\",\"availability\"],\n",
    "        \"additionalProperties\": False\n",
    "    }\n",
    "}"
   ]
  },
  {
   "cell_type": "code",
   "execution_count": 305,
   "metadata": {},
   "outputs": [],
   "source": [
    "tools = [{\"type\": \"function\", \"function\": price_function},\n",
    "         {\"type\": \"function\", \"function\": availability_function},\n",
    "         {\"type\": \"function\", \"function\": book_flight_function}]"
   ]
  },
  {
   "cell_type": "markdown",
   "metadata": {},
   "source": [
    "#### Getting OpenAI to use our Tool\n",
    "- There's some fiddly stuff to allow OpenAI \"to call our tool\"\n",
    "- What we actually do is give the LLM the opportunity to inform us that it wants us to run the tool.\n",
    "- Here's how the new chat function looks:"
   ]
  },
  {
   "cell_type": "code",
   "execution_count": 313,
   "metadata": {},
   "outputs": [],
   "source": [
    "def handle_tool_call(message):\n",
    "    tool_call = message.tool_calls[0]\n",
    "    if tool_call.function.name == \"get_ticket_price\":\n",
    "        arguments = json.loads(tool_call.function.arguments)\n",
    "        city = arguments.get('destination_city')\n",
    "        price = get_ticket_price(city)\n",
    "        response = {\n",
    "            \"role\": \"tool\",\n",
    "            \"content\": json.dumps({\"destination_city\": city,\"price\": price}),\n",
    "            \"tool_call_id\": message.tool_calls[0].id\n",
    "        }\n",
    "        return response, city\n",
    "    \n",
    "    elif tool_call.function.name == \"get_ticket_availability\":\n",
    "        arguments = json.loads(tool_call.function.arguments)\n",
    "        city = arguments.get('destination_city')\n",
    "        availability = get_ticket_availability(city)  \n",
    "        response = {\n",
    "            \"role\": \"tool\",\n",
    "            \"content\": json.dumps({\"destination_city\": city, \"availability\": availability}),\n",
    "            \"tool_call_id\": message.tool_calls[0].id\n",
    "        }\n",
    "        return response, city\n",
    "    \n",
    "    elif tool_call.function.name == \"book_flight\":\n",
    "        arguments = json.loads(tool_call.function.arguments)\n",
    "        city = arguments.get('destination_city')\n",
    "        availability = get_ticket_availability(city)\n",
    "        price = get_ticket_price(city) \n",
    "        response = {\n",
    "            \"role\": \"tool\",\n",
    "            \"content\": json.dumps({\"destination_city\": city, \"availability\": availability, \n",
    "                                   \"ticket_price\" : price}),\n",
    "            \"tool_call_id\": message.tool_calls[0].id\n",
    "        }\n",
    "        return response, city, availability, price\n"
   ]
  },
  {
   "cell_type": "markdown",
   "metadata": {},
   "source": [
    "#### Chat Function\n",
    "- we have added in two new message lines to allow our agent to use this tool\n",
    "    - adding in print statments could make this more clear\n",
    "\n",
    "- messages = response.choices[0].message \n",
    "    - This is nothing more than what we get back from our Assistant asking to run a tool\n",
    "- response, city = handle_tool_call(message)\n",
    "    - This is the result of calling the tool function"
   ]
  },
  {
   "cell_type": "code",
   "execution_count": 307,
   "metadata": {},
   "outputs": [],
   "source": [
    "def chat(message, history):\n",
    "    messages = [{\"role\": \"system\", \"content\": system_message}] + history + [{\"role\": \"user\", \"content\": message}]\n",
    "    response = openai.chat.completions.create(model=MODEL, messages=messages, tools=tools)\n",
    "\n",
    "    if response.choices[0].finish_reason==\"tool_calls\":\n",
    "        message = response.choices[0].message \n",
    "        response, city = handle_tool_call(message)\n",
    "        messages.append(message)\n",
    "        messages.append(response)\n",
    "        response = openai.chat.completions.create(model=MODEL, messages=messages)\n",
    "    \n",
    "    return response.choices[0].message.content"
   ]
  },
  {
   "cell_type": "code",
   "execution_count": 308,
   "metadata": {},
   "outputs": [
    {
     "name": "stdout",
     "output_type": "stream",
     "text": [
      "* Running on local URL:  http://127.0.0.1:7884\n",
      "\n",
      "To create a public link, set `share=True` in `launch()`.\n"
     ]
    },
    {
     "data": {
      "text/html": [
       "<div><iframe src=\"http://127.0.0.1:7884/\" width=\"100%\" height=\"500\" allow=\"autoplay; camera; microphone; clipboard-read; clipboard-write;\" frameborder=\"0\" allowfullscreen></iframe></div>"
      ],
      "text/plain": [
       "<IPython.core.display.HTML object>"
      ]
     },
     "metadata": {},
     "output_type": "display_data"
    },
    {
     "data": {
      "text/plain": []
     },
     "execution_count": 308,
     "metadata": {},
     "output_type": "execute_result"
    }
   ],
   "source": [
    "gr.ChatInterface(fn=chat, type=\"messages\", js=force_dark_mode).launch()\n",
    "\n",
    "# Interesting, I get an error when I don't specify the city name when asking for a price\n",
    "\n",
    "# Interesting, I get an error when asking to book a flight even after being told the availability\n",
    "# I also receive an error when asking to the book a flight to Berlin on the 13th."
   ]
  },
  {
   "cell_type": "markdown",
   "metadata": {},
   "source": [
    "Talker Function"
   ]
  },
  {
   "cell_type": "code",
   "execution_count": 309,
   "metadata": {},
   "outputs": [
    {
     "data": {
      "text/html": [
       "\n",
       "                <audio  controls=\"controls\" autoplay=\"autoplay\">\n",
       "                    <source src=\"data:audio/mpeg;base64,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\" type=\"audio/mpeg\" />\n",
       "                    Your browser does not support the audio element.\n",
       "                </audio>\n",
       "              "
      ],
      "text/plain": [
       "<IPython.lib.display.Audio object>"
      ]
     },
     "metadata": {},
     "output_type": "display_data"
    }
   ],
   "source": [
    "import base64\n",
    "from io import BytesIO\n",
    "from PIL import Image\n",
    "from IPython.display import Audio, display\n",
    "\n",
    "def talker(message):\n",
    "    response = openai.audio.speech.create(\n",
    "        model=\"tts-1\",\n",
    "        voice=\"onyx\",\n",
    "        input=message)\n",
    "\n",
    "    audio_stream = BytesIO(response.content)\n",
    "    output_filename = \"output_audio.mp3\"\n",
    "    with open(output_filename, \"wb\") as f:\n",
    "        f.write(audio_stream.read())\n",
    "\n",
    "    # Play the generated audio\n",
    "    display(Audio(output_filename, autoplay=True))\n",
    "\n",
    "talker(\"Well, hi there\")"
   ]
  },
  {
   "cell_type": "markdown",
   "metadata": {},
   "source": []
  },
  {
   "cell_type": "code",
   "execution_count": 310,
   "metadata": {},
   "outputs": [],
   "source": [
    "# def chat(history):\n",
    "#     messages = [{\"role\": \"system\", \"content\": system_message}] + history\n",
    "#     response = openai.chat.completions.create(model=MODEL, messages=messages, tools=tools)\n",
    "#     image = None\n",
    "    \n",
    "#     if response.choices[0].finish_reason==\"tool_calls\":\n",
    "#         message = response.choices[0].message\n",
    "#         response, city = handle_tool_call(message)\n",
    "#         messages.append(message)\n",
    "#         messages.append(response)\n",
    "#         image = artist(city)\n",
    "#         response = openai.chat.completions.create(model=MODEL, messages=messages)\n",
    "        \n",
    "#     reply = response.choices[0].message.content\n",
    "#     history += [{\"role\":\"assistant\", \"content\":reply}]\n",
    "\n",
    "#     # Comment out or delete the next line if you'd rather skip Audio for now..\n",
    "#     talker(reply)\n",
    "    \n",
    "#     return history, image"
   ]
  },
  {
   "cell_type": "code",
   "execution_count": 311,
   "metadata": {},
   "outputs": [],
   "source": [
    "# gr.ChatInterface(fn=chat, type=\"messages\", js=force_dark_mode).launch()"
   ]
  },
  {
   "cell_type": "code",
   "execution_count": null,
   "metadata": {},
   "outputs": [
    {
     "name": "stdout",
     "output_type": "stream",
     "text": [
      "Tool get_ticket_dates called for Berlin\n"
     ]
    }
   ],
   "source": [
    "# # More involved Gradio code as we're not using the preset Chat interface!\n",
    "# # Passing in inbrowser=True in the last line will cause a Gradio window to pop up immediately.\n",
    "\n",
    "# with gr.Blocks(js=force_dark_mode) as ui:\n",
    "#     with gr.Row():\n",
    "#         chatbot = gr.Chatbot(height=500, type=\"messages\")\n",
    "#         image_output = gr.Image(height=500)\n",
    "#     with gr.Row():\n",
    "#         entry = gr.Textbox(label=\"Chat with our AI Assistant:\")\n",
    "#     with gr.Row():\n",
    "#         clear = gr.Button(\"Clear\")\n",
    "\n",
    "#     def do_entry(message, history):\n",
    "#         history += [{\"role\":\"user\", \"content\":message}]\n",
    "#         return \"\", history\n",
    "\n",
    "#     entry.submit(do_entry, inputs=[entry, chatbot], outputs=[entry, chatbot]).then(\n",
    "#         chat, inputs=chatbot, outputs=[chatbot, image_output]\n",
    "#     )\n",
    "#     clear.click(lambda: None, inputs=None, outputs=chatbot, queue=False)\n",
    "\n",
    "# ui.launch(inbrowser=True)"
   ]
  }
 ],
 "metadata": {
  "kernelspec": {
   "display_name": "llms",
   "language": "python",
   "name": "python3"
  },
  "language_info": {
   "codemirror_mode": {
    "name": "ipython",
    "version": 3
   },
   "file_extension": ".py",
   "mimetype": "text/x-python",
   "name": "python",
   "nbconvert_exporter": "python",
   "pygments_lexer": "ipython3",
   "version": "3.11.11"
  }
 },
 "nbformat": 4,
 "nbformat_minor": 2
}
