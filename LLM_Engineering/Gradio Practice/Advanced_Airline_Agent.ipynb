{
 "cells": [
  {
   "cell_type": "markdown",
   "metadata": {},
   "source": [
    "Airline AI Assistant - this is an extension of a previous project \"Airline Agent\". \n",
    "- In this notebook I will be creating another Agent to Translate all the responses into a different language.\n",
    "- Adding more tools to handle booking a flight"
   ]
  },
  {
   "cell_type": "code",
   "execution_count": 356,
   "metadata": {},
   "outputs": [],
   "source": [
    "import os\n",
    "import json\n",
    "from dotenv import load_dotenv\n",
    "from openai import OpenAI\n",
    "import gradio as gr"
   ]
  },
  {
   "cell_type": "markdown",
   "metadata": {},
   "source": [
    "Load in the API keys"
   ]
  },
  {
   "cell_type": "code",
   "execution_count": 357,
   "metadata": {},
   "outputs": [
    {
     "name": "stdout",
     "output_type": "stream",
     "text": [
      "OpenAI API Key exists and begins sk-proj-\n"
     ]
    }
   ],
   "source": [
    "load_dotenv()\n",
    "\n",
    "openai_api_key = os.getenv('OPENAI_API_KEY')\n",
    "if openai_api_key:\n",
    "    print(f\"OpenAI API Key exists and begins {openai_api_key[:8]}\")\n",
    "else:\n",
    "    print(\"OpenAI API Key not set\")\n",
    "    \n",
    "MODEL = \"gpt-4o-mini\"\n",
    "openai = OpenAI()"
   ]
  },
  {
   "cell_type": "markdown",
   "metadata": {},
   "source": [
    "System Prompts"
   ]
  },
  {
   "cell_type": "code",
   "execution_count": 379,
   "metadata": {},
   "outputs": [],
   "source": [
    "system_message = \"You are a helpful assistant for an Airline called FlightAI. \"\n",
    "system_message += \"Give short, courteous answers, no more than 1 sentence. \"\n",
    "system_message += \"Always be accurate. If you don't know the answer, say so.\"\n",
    "system_message += \"If a flight is not available on a certain date, say that it is not available.\"\n",
    "# system_message += \"If a flight is available on a certain date, and the customer requests to book it, say here is your ticket, have a nice flight.\"\n",
    "\n",
    "# This last system message is a good way to ensure the agent does not hallucinate"
   ]
  },
  {
   "cell_type": "markdown",
   "metadata": {},
   "source": [
    "Forcing dark mode in Gradio"
   ]
  },
  {
   "cell_type": "code",
   "execution_count": 380,
   "metadata": {},
   "outputs": [],
   "source": [
    "force_dark_mode = \"\"\"\n",
    "function refresh() {\n",
    "    const url = new URL(window.location);\n",
    "    if (url.searchParams.get('__theme') !== 'dark') {\n",
    "        url.searchParams.set('__theme', 'dark');\n",
    "        window.location.href = url.href;\n",
    "    }\n",
    "}\n",
    "\"\"\""
   ]
  },
  {
   "cell_type": "markdown",
   "metadata": {},
   "source": [
    "#### Tools\n",
    "- Tools are an incredibly powerful feature provided by the frontier LLMs.\n",
    "- With tools, you can write a function, and have the LLM call that function as part of its response.\n",
    "- Sounds almost spooky.. we're giving it the power to run code on our machine? Well, kinda."
   ]
  },
  {
   "cell_type": "code",
   "execution_count": 381,
   "metadata": {},
   "outputs": [],
   "source": [
    "ticket_prices = {\n",
    "    \"london\": \"$799\", \n",
    "    \"paris\": \"$899\", \n",
    "    \"tokyo\": \"$1400\", \n",
    "    \"berlin\": \"$499\"\n",
    "}\n",
    "\n",
    "def get_ticket_price(destination_city):\n",
    "    print(f\"Tool get_ticket_price called for {destination_city}\")\n",
    "    city = destination_city.lower()\n",
    "    return ticket_prices.get(city, \"Unknown\")"
   ]
  },
  {
   "cell_type": "code",
   "execution_count": 382,
   "metadata": {},
   "outputs": [],
   "source": [
    "ticket_availability = {\n",
    "    \"london\": [\"11th\", \"12th\"],\n",
    "    \"paris\": [\"13th\", \"14th\"],\n",
    "    \"tokyo\": [\"15th\", \"16th\"],\n",
    "    \"berlin\": [\"13th\", \"14th\"]\n",
    "}\n",
    "\n",
    "\n",
    "def get_ticket_availability(destination_city):\n",
    "    print(f\"Tool get_ticket_dates called for {destination_city}\")\n",
    "    city = destination_city.lower()\n",
    "    return ticket_availability.get(city, \"Unknown\")"
   ]
  },
  {
   "cell_type": "code",
   "execution_count": 383,
   "metadata": {},
   "outputs": [],
   "source": [
    "# import random\n",
    "\n",
    "# def book_flight(destination_city):\n",
    "#     print(f\"Tool to book a flight for {destination_city}\")\n",
    "#     city = destination_city.lower()\n",
    "#     availability = ticket_availability.get(city, \"Unknown\")\n",
    "#     price =ticket_prices.get(city, \"Unknown\")\n",
    "    \n",
    "#     confirmation_number = f\"FLIGHT-{random.randint(100000, 999999)}\"\n",
    "    \n",
    "#     return {\n",
    "#         \"status\": \"success\",\n",
    "#         \"confirmation_number\": confirmation_number,\n",
    "#         \"destination_city\": destination_city,\n",
    "#         \"ticket_availability\": availability,\n",
    "#         \"ticket_price\": price\n",
    "#     }"
   ]
  },
  {
   "cell_type": "code",
   "execution_count": 424,
   "metadata": {},
   "outputs": [],
   "source": [
    "import random\n",
    "\n",
    "def book_flight(destination_city, travel_date):\n",
    "    print(f\"Tool to book a flight for {destination_city} on {travel_date}\")\n",
    "    city = destination_city.lower()\n",
    "    availability = get_ticket_availability(city)\n",
    "    price = get_ticket_price(city)\n",
    "    if travel_date not in availability:\n",
    "        return {\n",
    "            \"status\": \"error\",\n",
    "            \"message\": f\"No flights available for {destination_city} on {travel_date}.\"\n",
    "        }\n",
    "\n",
    "    \n",
    "    confirmation_number = f\"FLIGHT-{random.randint(100000, 999999)}\"\n",
    "\n",
    "    return {\n",
    "        \"status\": \"success\",\n",
    "        \"confirmation_number\": confirmation_number,\n",
    "        \"destination_city\": destination_city,\n",
    "        \"ticket_availability\": availability,\n",
    "        \"ticket_price\": price\n",
    "    }\n"
   ]
  },
  {
   "cell_type": "code",
   "execution_count": 425,
   "metadata": {},
   "outputs": [
    {
     "name": "stdout",
     "output_type": "stream",
     "text": [
      "Tool to book a flight for Berlin on 13th\n",
      "Tool get_ticket_dates called for berlin\n",
      "Tool get_ticket_price called for berlin\n"
     ]
    },
    {
     "data": {
      "text/plain": [
       "{'status': 'success',\n",
       " 'confirmation_number': 'FLIGHT-230820',\n",
       " 'destination_city': 'Berlin',\n",
       " 'ticket_availability': ['13th', '14th'],\n",
       " 'ticket_price': '$499'}"
      ]
     },
     "execution_count": 425,
     "metadata": {},
     "output_type": "execute_result"
    }
   ],
   "source": [
    "book_flight(\"Berlin\", \"13th\")"
   ]
  },
  {
   "cell_type": "code",
   "execution_count": 426,
   "metadata": {},
   "outputs": [
    {
     "name": "stdout",
     "output_type": "stream",
     "text": [
      "Tool get_ticket_price called for Berlin\n"
     ]
    },
    {
     "data": {
      "text/plain": [
       "'$499'"
      ]
     },
     "execution_count": 426,
     "metadata": {},
     "output_type": "execute_result"
    }
   ],
   "source": [
    "get_ticket_price(\"Berlin\")"
   ]
  },
  {
   "cell_type": "code",
   "execution_count": 427,
   "metadata": {},
   "outputs": [
    {
     "name": "stdout",
     "output_type": "stream",
     "text": [
      "Tool get_ticket_dates called for Berlin\n"
     ]
    },
    {
     "data": {
      "text/plain": [
       "['13th', '14th']"
      ]
     },
     "execution_count": 427,
     "metadata": {},
     "output_type": "execute_result"
    }
   ],
   "source": [
    "get_ticket_availability(\"Berlin\")"
   ]
  },
  {
   "cell_type": "code",
   "execution_count": 428,
   "metadata": {},
   "outputs": [],
   "source": [
    "price_function = {\n",
    "    \"name\": \"get_ticket_price\",\n",
    "    \"description\": \"Get the price of a ticket to the destination city. Call this whenever you need to know the ticket price, for example when a customer asks 'How much is a ticket to this city'\",\n",
    "    \"parameters\": {\n",
    "        \"type\": \"object\",\n",
    "        \"properties\": {\n",
    "            \"destination_city\": {\n",
    "                \"type\": \"string\",\n",
    "                \"description\": \"The city that the customer wants to travel to\",\n",
    "            },\n",
    "        },\n",
    "        \"required\": [\"destination_city\"],\n",
    "        \"additionalProperties\": False\n",
    "    }\n",
    "}"
   ]
  },
  {
   "cell_type": "code",
   "execution_count": 429,
   "metadata": {},
   "outputs": [],
   "source": [
    "availability_function = {\n",
    "    \"name\": \"get_ticket_availability\",\n",
    "    \"description\": \"Call this whenever you need to know the date of a flight to a particular city, for example when a customer asks 'Are there any available flights to this city?'\",\n",
    "    \"parameters\": {\n",
    "        \"type\": \"object\",\n",
    "        \"properties\": {\n",
    "            \"destination_city\": {\n",
    "                \"type\": \"string\",\n",
    "                \"description\": \"The city that the customer wants to travel to\",\n",
    "            },\n",
    "        },\n",
    "        \"required\": [\"destination_city\"],\n",
    "        \"additionalProperties\": False\n",
    "    }\n",
    "}"
   ]
  },
  {
   "cell_type": "code",
   "execution_count": 430,
   "metadata": {},
   "outputs": [],
   "source": [
    "book_flight_function = {\n",
    "    \"name\": \"book_ticket\",\n",
    "    \"description\": \"Book a ticket to a destination city on a specific date.\",\n",
    "    \"parameters\": {\n",
    "        \"type\": \"object\",\n",
    "        \"properties\": {\n",
    "            \"destination_city\": {\n",
    "                \"type\": \"string\",\n",
    "                \"description\": \"The city the customer wants to travel to\",\n",
    "            },\n",
    "            \"travel_date\": {\n",
    "                \"type\": \"string\",\n",
    "                \"description\": \"The date the customer wants to travel on (e.g., '13th')\",\n",
    "            },\n",
    "            \"ticket_price\": {\n",
    "                \"type\": \"string\",\n",
    "                \"description\": \"The price of the ticket being booked.\",\n",
    "            }\n",
    "        },\n",
    "        \"required\": [\"destination_city\", \"travel_date\", 'ticket_price'],\n",
    "        \"additionalProperties\": False\n",
    "    }\n",
    "}\n"
   ]
  },
  {
   "cell_type": "code",
   "execution_count": 431,
   "metadata": {},
   "outputs": [],
   "source": [
    "tools = [{\"type\": \"function\", \"function\": price_function},\n",
    "         {\"type\": \"function\", \"function\": availability_function},\n",
    "         {\"type\": \"function\", \"function\": book_flight_function}]"
   ]
  },
  {
   "cell_type": "markdown",
   "metadata": {},
   "source": [
    "#### Getting OpenAI to use our Tool\n",
    "- There's some fiddly stuff to allow OpenAI \"to call our tool\"\n",
    "- What we actually do is give the LLM the opportunity to inform us that it wants us to run the tool.\n",
    "- Here's how the new chat function looks:"
   ]
  },
  {
   "cell_type": "code",
   "execution_count": 440,
   "metadata": {},
   "outputs": [],
   "source": [
    "def handle_tool_call(message):\n",
    "    tool_call = message.tool_calls[0]\n",
    "    if tool_call.function.name == \"get_ticket_price\":\n",
    "        arguments = json.loads(tool_call.function.arguments)\n",
    "        city = arguments.get('destination_city')\n",
    "        price = get_ticket_price(city)\n",
    "        response = {\n",
    "            \"role\": \"tool\",\n",
    "            \"content\": json.dumps({\"destination_city\": city,\"price\": price}),\n",
    "            \"tool_call_id\": message.tool_calls[0].id\n",
    "        }\n",
    "        return response, city\n",
    "    \n",
    "    elif tool_call.function.name == \"get_ticket_availability\":\n",
    "        arguments = json.loads(tool_call.function.arguments)\n",
    "        city = arguments.get('destination_city')\n",
    "        availability = get_ticket_availability(city)  \n",
    "        response = {\n",
    "            \"role\": \"tool\",\n",
    "            \"content\": json.dumps({\"destination_city\": city, \"availability\": availability}),\n",
    "            \"tool_call_id\": message.tool_calls[0].id\n",
    "        }\n",
    "        return response, city\n",
    "    \n",
    "    elif tool_call.function.name == \"book_flight\":\n",
    "        arguments = json.loads(tool_call.function.arguments)\n",
    "        city = arguments.get('destination_city')\n",
    "        travel_date = arguments.get('travel_date')  # Extract the travel date\n",
    "        \n",
    "        availability = ticket_availability.get(city, [])\n",
    "        \n",
    "        # Check if the date is valid\n",
    "        if travel_date not in availability:\n",
    "            response = {\n",
    "                \"role\": \"tool\",\n",
    "                \"content\": json.dumps({\n",
    "                    \"status\": \"error\",\n",
    "                    \"message\": f\"No flights available for {city.title()} on {travel_date}.\"\n",
    "                }),\n",
    "                \"tool_call_id\": message.tool_calls[0].id\n",
    "            }\n",
    "            return response, city\n",
    "        \n",
    "        price = get_ticket_price(city)\n",
    "        confirmation_number = f\"FLIGHT-{random.randint(100000, 999999)}\"\n",
    "        \n",
    "        response = {\n",
    "            \"role\": \"tool\",\n",
    "            \"content\": json.dumps({\n",
    "                \"status\": \"success\",\n",
    "                \"destination_city\": city,\n",
    "                \"travel_date\": travel_date,\n",
    "                \"ticket_price\": price,\n",
    "                \"confirmation_number\": confirmation_number\n",
    "            }),\n",
    "            \"tool_call_id\": message.tool_calls[0].id\n",
    "        }\n",
    "        return response, city\n",
    "\n"
   ]
  },
  {
   "cell_type": "markdown",
   "metadata": {},
   "source": [
    "#### Chat Function\n",
    "- we have added in two new message lines to allow our agent to use this tool\n",
    "    - adding in print statments could make this more clear\n",
    "\n",
    "- messages = response.choices[0].message \n",
    "    - This is nothing more than what we get back from our Assistant asking to run a tool\n",
    "- response, city = handle_tool_call(message)\n",
    "    - This is the result of calling the tool function"
   ]
  },
  {
   "cell_type": "code",
   "execution_count": 441,
   "metadata": {},
   "outputs": [],
   "source": [
    "def chat(message, history):\n",
    "    messages = [{\"role\": \"system\", \"content\": system_message}] + history + [{\"role\": \"user\", \"content\": message}]\n",
    "    response = openai.chat.completions.create(model=MODEL, messages=messages, tools=tools)\n",
    "\n",
    "    if response.choices[0].finish_reason==\"tool_calls\":\n",
    "        message = response.choices[0].message \n",
    "        response, city = handle_tool_call(message)\n",
    "        messages.append(message)\n",
    "        messages.append(response)\n",
    "        response = openai.chat.completions.create(model=MODEL, messages=messages)\n",
    "    \n",
    "    return response.choices[0].message.content"
   ]
  },
  {
   "cell_type": "code",
   "execution_count": 443,
   "metadata": {},
   "outputs": [
    {
     "name": "stdout",
     "output_type": "stream",
     "text": [
      "* Running on local URL:  http://127.0.0.1:7895\n",
      "\n",
      "To create a public link, set `share=True` in `launch()`.\n"
     ]
    },
    {
     "data": {
      "text/html": [
       "<div><iframe src=\"http://127.0.0.1:7895/\" width=\"100%\" height=\"500\" allow=\"autoplay; camera; microphone; clipboard-read; clipboard-write;\" frameborder=\"0\" allowfullscreen></iframe></div>"
      ],
      "text/plain": [
       "<IPython.core.display.HTML object>"
      ]
     },
     "metadata": {},
     "output_type": "display_data"
    },
    {
     "data": {
      "text/plain": []
     },
     "execution_count": 443,
     "metadata": {},
     "output_type": "execute_result"
    },
    {
     "name": "stdout",
     "output_type": "stream",
     "text": [
      "Tool get_ticket_dates called for Berlin\n",
      "Tool get_ticket_price called for Berlin\n"
     ]
    },
    {
     "name": "stderr",
     "output_type": "stream",
     "text": [
      "Traceback (most recent call last):\n",
      "  File \"c:\\Users\\Erica\\anaconda3\\envs\\llms\\Lib\\site-packages\\gradio\\queueing.py\", line 625, in process_events\n",
      "    response = await route_utils.call_process_api(\n",
      "               ^^^^^^^^^^^^^^^^^^^^^^^^^^^^^^^^^^^\n",
      "  File \"c:\\Users\\Erica\\anaconda3\\envs\\llms\\Lib\\site-packages\\gradio\\route_utils.py\", line 322, in call_process_api\n",
      "    output = await app.get_blocks().process_api(\n",
      "             ^^^^^^^^^^^^^^^^^^^^^^^^^^^^^^^^^^^\n",
      "  File \"c:\\Users\\Erica\\anaconda3\\envs\\llms\\Lib\\site-packages\\gradio\\blocks.py\", line 2042, in process_api\n",
      "    result = await self.call_function(\n",
      "             ^^^^^^^^^^^^^^^^^^^^^^^^^\n",
      "  File \"c:\\Users\\Erica\\anaconda3\\envs\\llms\\Lib\\site-packages\\gradio\\blocks.py\", line 1587, in call_function\n",
      "    prediction = await fn(*processed_input)\n",
      "                 ^^^^^^^^^^^^^^^^^^^^^^^^^^\n",
      "  File \"c:\\Users\\Erica\\anaconda3\\envs\\llms\\Lib\\site-packages\\gradio\\utils.py\", line 850, in async_wrapper\n",
      "    response = await f(*args, **kwargs)\n",
      "               ^^^^^^^^^^^^^^^^^^^^^^^^\n",
      "  File \"c:\\Users\\Erica\\anaconda3\\envs\\llms\\Lib\\site-packages\\gradio\\chat_interface.py\", line 847, in _submit_fn\n",
      "    response = await anyio.to_thread.run_sync(\n",
      "               ^^^^^^^^^^^^^^^^^^^^^^^^^^^^^^^\n",
      "  File \"c:\\Users\\Erica\\anaconda3\\envs\\llms\\Lib\\site-packages\\anyio\\to_thread.py\", line 56, in run_sync\n",
      "    return await get_async_backend().run_sync_in_worker_thread(\n",
      "           ^^^^^^^^^^^^^^^^^^^^^^^^^^^^^^^^^^^^^^^^^^^^^^^^^^^^\n",
      "  File \"c:\\Users\\Erica\\anaconda3\\envs\\llms\\Lib\\site-packages\\anyio\\_backends\\_asyncio.py\", line 2461, in run_sync_in_worker_thread\n",
      "    return await future\n",
      "           ^^^^^^^^^^^^\n",
      "  File \"c:\\Users\\Erica\\anaconda3\\envs\\llms\\Lib\\site-packages\\anyio\\_backends\\_asyncio.py\", line 962, in run\n",
      "    result = context.run(func, *args)\n",
      "             ^^^^^^^^^^^^^^^^^^^^^^^^\n",
      "  File \"C:\\Users\\Erica\\AppData\\Local\\Temp\\ipykernel_35804\\1916737217.py\", line 7, in chat\n",
      "    response, city = handle_tool_call(message)\n",
      "    ^^^^^^^^^^^^^^\n",
      "TypeError: cannot unpack non-iterable NoneType object\n"
     ]
    }
   ],
   "source": [
    "gr.ChatInterface(fn=chat, type=\"messages\", js=force_dark_mode).launch()\n",
    "\n",
    "# Interesting, I get an error when I don't specify the city name when asking for a price\n",
    "\n",
    "# Interesting, I get an error when asking to book a flight even after being told the availability\n",
    "# I also receive an error when asking to the book a flight to Berlin on the 13th."
   ]
  },
  {
   "cell_type": "markdown",
   "metadata": {},
   "source": [
    "Talker Function"
   ]
  },
  {
   "cell_type": "code",
   "execution_count": 435,
   "metadata": {},
   "outputs": [
    {
     "data": {
      "text/html": [
       "\n",
       "                <audio  controls=\"controls\" autoplay=\"autoplay\">\n",
       "                    <source src=\"data:audio/mpeg;base64,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\" type=\"audio/mpeg\" />\n",
       "                    Your browser does not support the audio element.\n",
       "                </audio>\n",
       "              "
      ],
      "text/plain": [
       "<IPython.lib.display.Audio object>"
      ]
     },
     "metadata": {},
     "output_type": "display_data"
    }
   ],
   "source": [
    "import base64\n",
    "from io import BytesIO\n",
    "from PIL import Image\n",
    "from IPython.display import Audio, display\n",
    "\n",
    "def talker(message):\n",
    "    response = openai.audio.speech.create(\n",
    "        model=\"tts-1\",\n",
    "        voice=\"onyx\",\n",
    "        input=message)\n",
    "\n",
    "    audio_stream = BytesIO(response.content)\n",
    "    output_filename = \"output_audio.mp3\"\n",
    "    with open(output_filename, \"wb\") as f:\n",
    "        f.write(audio_stream.read())\n",
    "\n",
    "    # Play the generated audio\n",
    "    display(Audio(output_filename, autoplay=True))\n",
    "\n",
    "talker(\"Well, hi there\")"
   ]
  },
  {
   "cell_type": "markdown",
   "metadata": {},
   "source": []
  },
  {
   "cell_type": "code",
   "execution_count": 436,
   "metadata": {},
   "outputs": [],
   "source": [
    "# def chat(history):\n",
    "#     messages = [{\"role\": \"system\", \"content\": system_message}] + history\n",
    "#     response = openai.chat.completions.create(model=MODEL, messages=messages, tools=tools)\n",
    "#     image = None\n",
    "    \n",
    "#     if response.choices[0].finish_reason==\"tool_calls\":\n",
    "#         message = response.choices[0].message\n",
    "#         response, city = handle_tool_call(message)\n",
    "#         messages.append(message)\n",
    "#         messages.append(response)\n",
    "#         image = artist(city)\n",
    "#         response = openai.chat.completions.create(model=MODEL, messages=messages)\n",
    "        \n",
    "#     reply = response.choices[0].message.content\n",
    "#     history += [{\"role\":\"assistant\", \"content\":reply}]\n",
    "\n",
    "#     # Comment out or delete the next line if you'd rather skip Audio for now..\n",
    "#     talker(reply)\n",
    "    \n",
    "#     return history, image"
   ]
  },
  {
   "cell_type": "code",
   "execution_count": 437,
   "metadata": {},
   "outputs": [],
   "source": [
    "# gr.ChatInterface(fn=chat, type=\"messages\", js=force_dark_mode).launch()"
   ]
  },
  {
   "cell_type": "code",
   "execution_count": 438,
   "metadata": {},
   "outputs": [
    {
     "name": "stdout",
     "output_type": "stream",
     "text": [
      "Tool get_ticket_dates called for Berlin\n",
      "Tool get_ticket_price called for Berlin\n"
     ]
    }
   ],
   "source": [
    "# # More involved Gradio code as we're not using the preset Chat interface!\n",
    "# # Passing in inbrowser=True in the last line will cause a Gradio window to pop up immediately.\n",
    "\n",
    "# with gr.Blocks(js=force_dark_mode) as ui:\n",
    "#     with gr.Row():\n",
    "#         chatbot = gr.Chatbot(height=500, type=\"messages\")\n",
    "#         image_output = gr.Image(height=500)\n",
    "#     with gr.Row():\n",
    "#         entry = gr.Textbox(label=\"Chat with our AI Assistant:\")\n",
    "#     with gr.Row():\n",
    "#         clear = gr.Button(\"Clear\")\n",
    "\n",
    "#     def do_entry(message, history):\n",
    "#         history += [{\"role\":\"user\", \"content\":message}]\n",
    "#         return \"\", history\n",
    "\n",
    "#     entry.submit(do_entry, inputs=[entry, chatbot], outputs=[entry, chatbot]).then(\n",
    "#         chat, inputs=chatbot, outputs=[chatbot, image_output]\n",
    "#     )\n",
    "#     clear.click(lambda: None, inputs=None, outputs=chatbot, queue=False)\n",
    "\n",
    "# ui.launch(inbrowser=True)"
   ]
  }
 ],
 "metadata": {
  "kernelspec": {
   "display_name": "llms",
   "language": "python",
   "name": "python3"
  },
  "language_info": {
   "codemirror_mode": {
    "name": "ipython",
    "version": 3
   },
   "file_extension": ".py",
   "mimetype": "text/x-python",
   "name": "python",
   "nbconvert_exporter": "python",
   "pygments_lexer": "ipython3",
   "version": "3.11.11"
  }
 },
 "nbformat": 4,
 "nbformat_minor": 2
}
