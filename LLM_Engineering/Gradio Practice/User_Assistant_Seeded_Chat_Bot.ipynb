{
 "cells": [
  {
   "cell_type": "markdown",
   "metadata": {},
   "source": [
    "### Pre-Seeded Chat Bot Using OpenAI API\n",
    "- In this notebook I am playing around with how you could go about pre-seeding a conversation to provide a better response to the user."
   ]
  },
  {
   "cell_type": "code",
   "execution_count": 1,
   "metadata": {},
   "outputs": [],
   "source": [
    "import os\n",
    "from dotenv import load_dotenv\n",
    "from openai import OpenAI\n",
    "import gradio as gr"
   ]
  },
  {
   "cell_type": "markdown",
   "metadata": {},
   "source": [
    "Forcing Dark mode in Gradio"
   ]
  },
  {
   "cell_type": "code",
   "execution_count": 2,
   "metadata": {},
   "outputs": [],
   "source": [
    "force_dark_mode = \"\"\"\n",
    "function refresh() {\n",
    "    const url = new URL(window.location);\n",
    "    if (url.searchParams.get('__theme') !== 'dark') {\n",
    "        url.searchParams.set('__theme', 'dark');\n",
    "        window.location.href = url.href;\n",
    "    }\n",
    "}\n",
    "\"\"\""
   ]
  },
  {
   "cell_type": "markdown",
   "metadata": {},
   "source": [
    "Load in Keys"
   ]
  },
  {
   "cell_type": "code",
   "execution_count": 3,
   "metadata": {},
   "outputs": [
    {
     "name": "stdout",
     "output_type": "stream",
     "text": [
      "OpenAI API Key exists and begins sk-proj-\n"
     ]
    }
   ],
   "source": [
    "load_dotenv()\n",
    "openai_api_key = os.getenv('OPENAI_API_KEY')\n",
    "\n",
    "if openai_api_key:\n",
    "    print(f\"OpenAI API Key exists and begins {openai_api_key[:8]}\")\n",
    "else:\n",
    "    print(\"OpenAI API Key not set\")"
   ]
  },
  {
   "cell_type": "markdown",
   "metadata": {},
   "source": [
    "Initialize the Model"
   ]
  },
  {
   "cell_type": "code",
   "execution_count": 4,
   "metadata": {},
   "outputs": [],
   "source": [
    "openai = OpenAI()\n",
    "MODEL = 'gpt-4o-mini'"
   ]
  },
  {
   "cell_type": "markdown",
   "metadata": {},
   "source": [
    "Message GPT Function"
   ]
  },
  {
   "cell_type": "code",
   "execution_count": 5,
   "metadata": {},
   "outputs": [],
   "source": [
    "# def message_gpt(prompt):\n",
    "#     messages = [\n",
    "#         {\"role\": \"system\", \"content\": system_message},\n",
    "#         {\"role\": \"user\", \"content\": prompt}\n",
    "#       ]\n",
    "#     completion = openai.chat.completions.create(\n",
    "#         model='gpt-4o-mini',\n",
    "#         messages=messages,\n",
    "#     )\n",
    "#     return completion.choices[0].message.content"
   ]
  },
  {
   "cell_type": "markdown",
   "metadata": {},
   "source": [
    "Modified Message_GPT function to allow prior conversation seeding."
   ]
  },
  {
   "cell_type": "code",
   "execution_count": 6,
   "metadata": {},
   "outputs": [],
   "source": [
    "def message_gpt(prompt, seed_conversation=None):\n",
    "    messages = [{\"role\": \"system\", \"content\": system_message}]\n",
    "    \n",
    "    if seed_conversation:\n",
    "        messages.extend(seed_conversation)  # Add pre-seeded conversation\n",
    "    \n",
    "    messages.append({\"role\": \"user\", \"content\": prompt})\n",
    "    \n",
    "    completion = openai.chat.completions.create(\n",
    "        model='gpt-4o-mini',\n",
    "        messages=messages,\n",
    "    )\n",
    "    return completion.choices[0].message.content\n"
   ]
  },
  {
   "cell_type": "code",
   "execution_count": 7,
   "metadata": {},
   "outputs": [],
   "source": [
    "system_message = \"You are a helpful assistant in a clothes store. You should try to gently encourage \\\n",
    "the customer to try items that are on sale. Hats are 60% off, and most other items are 50% off. \\\n",
    "For example, if the customer says 'I'm looking to buy a hat', \\\n",
    "you could reply something like, 'Wonderful - we have lots of hats - including several that are part of our sales event.'\\\n",
    "Encourage the customer to buy hats if they are unsure what to get.\""
   ]
  },
  {
   "cell_type": "markdown",
   "metadata": {},
   "source": [
    "Chat Function with Conversation Seeding"
   ]
  },
  {
   "cell_type": "code",
   "execution_count": 8,
   "metadata": {},
   "outputs": [],
   "source": [
    "def chat(message, history):\n",
    "    # Define a pre-seeded conversation\n",
    "    seed_conversation = [\n",
    "        {\"role\": \"user\", \"content\": \"Hello, I am looking to buy some clothes?\"},\n",
    "        {\"role\": \"assistant\", \"content\": \"I am a helpful AI Clothing specialist at this clothing store.\"},\n",
    "        {\"role\": \"user\", \"content\": \"Can you tell me some of the prices of the clothing that are on sale?\"},\n",
    "        {\"role\": \"assistant\", \"content\": \"The majority of our hats range from $15 to $20, shoes are $50 to $60, and we don't have prices for pants because we do not sell pants.\"}\n",
    "    ]\n",
    "\n",
    "    # Determine the appropriate system message\n",
    "    relevant_system_message = system_message\n",
    "    if \"belt\" in message:\n",
    "        relevant_system_message += \" The store does not sell belts; if you are asked for belts, be sure to point out other items on sale.\"\n",
    "    \n",
    "    # Combine system message, pre-seeded conversation, chat history, and new message\n",
    "    messages = [{\"role\": \"system\", \"content\": relevant_system_message}] + seed_conversation + history + [{\"role\": \"user\", \"content\": message}]\n",
    "\n",
    "    # Create a streaming response from OpenAI\n",
    "    stream = openai.chat.completions.create(model=MODEL, messages=messages, stream=True)\n",
    "\n",
    "    response = \"\"\n",
    "    for chunk in stream:\n",
    "        response += chunk.choices[0].delta.content or ''\n",
    "        yield response\n"
   ]
  },
  {
   "cell_type": "markdown",
   "metadata": {},
   "source": [
    "#### Chat Function with Multiple different Conversation Seeds\n",
    "- After playing around with this I can tell that the system messages would need to be chosen carefully if you want to have a versatile chatbot for multiple different tasks"
   ]
  },
  {
   "cell_type": "code",
   "execution_count": 11,
   "metadata": {},
   "outputs": [],
   "source": [
    "def chat(message, history):\n",
    "    # Define multiple seed conversations\n",
    "    seed_conversations = {\n",
    "        \"general\": [\n",
    "            {\"role\": \"user\", \"content\": \"Hello, who are you?\"},\n",
    "            {\"role\": \"assistant\", \"content\": \"I am a helpful AI assistant here to assist you.\"}\n",
    "        ],\n",
    "        \"shopping\": [\n",
    "            {\"role\": \"user\", \"content\": \"What products do you sell?\"},\n",
    "            {\"role\": \"assistant\", \"content\": \"We sell a variety of items, but no belts.\"}\n",
    "        ],\n",
    "        \"tech_support\": [\n",
    "            {\"role\": \"user\", \"content\": \"Can you help me troubleshoot my computer?\"},\n",
    "            {\"role\": \"assistant\", \"content\": \"Of course! What seems to be the issue?\"}\n",
    "        ]\n",
    "    }\n",
    "\n",
    "    # Determine the relevant seed conversation based on message content\n",
    "    if \"buy\" in message or \"product\" in message:\n",
    "        selected_seed = seed_conversations[\"shopping\"]\n",
    "    elif \"computer\" in message or \"troubleshoot\" in message:\n",
    "        selected_seed = seed_conversations[\"tech_support\"]\n",
    "    else:\n",
    "        selected_seed = seed_conversations[\"general\"]\n",
    "\n",
    "    # Determine the appropriate system message\n",
    "    relevant_system_message = system_message\n",
    "    if \"belt\" in message:\n",
    "        relevant_system_message += \" The store does not sell belts; if you are asked for belts, be sure to point out other items on sale.\"\n",
    "    \n",
    "    # Combine system message, selected seed conversation, chat history, and new user message\n",
    "    messages = [{\"role\": \"system\", \"content\": relevant_system_message}] + selected_seed + history + [{\"role\": \"user\", \"content\": message}]\n",
    "\n",
    "    # Create a streaming response from OpenAI\n",
    "    stream = openai.chat.completions.create(model=MODEL, messages=messages, stream=True)\n",
    "\n",
    "    response = \"\"\n",
    "    for chunk in stream:\n",
    "        response += chunk.choices[0].delta.content or ''\n",
    "        yield response\n"
   ]
  },
  {
   "cell_type": "markdown",
   "metadata": {},
   "source": [
    "Check Gradio Version"
   ]
  },
  {
   "cell_type": "code",
   "execution_count": 9,
   "metadata": {},
   "outputs": [],
   "source": [
    "# !pip show gradio\n",
    "# 5.8.0 to 5.12"
   ]
  },
  {
   "cell_type": "code",
   "execution_count": 12,
   "metadata": {},
   "outputs": [
    {
     "name": "stdout",
     "output_type": "stream",
     "text": [
      "* Running on local URL:  http://127.0.0.1:7869\n",
      "\n",
      "To create a public link, set `share=True` in `launch()`.\n"
     ]
    },
    {
     "data": {
      "text/html": [
       "<div><iframe src=\"http://127.0.0.1:7869/\" width=\"100%\" height=\"500\" allow=\"autoplay; camera; microphone; clipboard-read; clipboard-write;\" frameborder=\"0\" allowfullscreen></iframe></div>"
      ],
      "text/plain": [
       "<IPython.core.display.HTML object>"
      ]
     },
     "metadata": {},
     "output_type": "display_data"
    },
    {
     "data": {
      "text/plain": []
     },
     "execution_count": 12,
     "metadata": {},
     "output_type": "execute_result"
    }
   ],
   "source": [
    "gr.ChatInterface(fn=chat, type=\"messages\", js=force_dark_mode).launch()"
   ]
  },
  {
   "cell_type": "markdown",
   "metadata": {},
   "source": [
    "Note: The LLM is \"very gently encouraging\" us to buy hats that are on sale, which is quite funny."
   ]
  }
 ],
 "metadata": {
  "kernelspec": {
   "display_name": "llms",
   "language": "python",
   "name": "python3"
  },
  "language_info": {
   "codemirror_mode": {
    "name": "ipython",
    "version": 3
   },
   "file_extension": ".py",
   "mimetype": "text/x-python",
   "name": "python",
   "nbconvert_exporter": "python",
   "pygments_lexer": "ipython3",
   "version": "3.11.11"
  }
 },
 "nbformat": 4,
 "nbformat_minor": 2
}
