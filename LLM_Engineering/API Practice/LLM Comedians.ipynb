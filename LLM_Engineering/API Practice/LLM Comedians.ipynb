{
 "cells": [
  {
   "cell_type": "markdown",
   "metadata": {},
   "source": [
    "Testing out Anthropic and Google API's whilst having them share some jokes with one another"
   ]
  },
  {
   "cell_type": "code",
   "execution_count": 1,
   "metadata": {},
   "outputs": [],
   "source": [
    "import os\n",
    "from dotenv import load_dotenv\n",
    "from openai import OpenAI\n",
    "import anthropic\n",
    "from IPython.display import Markdown, display, update_display"
   ]
  },
  {
   "cell_type": "code",
   "execution_count": 2,
   "metadata": {},
   "outputs": [],
   "source": [
    "# import for google\n",
    "# in rare cases, this seems to give an error on some systems, or even crashes the kernel\n",
    "# If this happens to you, simply ignore this cell - I give an alternative approach for using Gemini later\n",
    "\n",
    "import google.generativeai"
   ]
  },
  {
   "cell_type": "code",
   "execution_count": 3,
   "metadata": {},
   "outputs": [
    {
     "name": "stdout",
     "output_type": "stream",
     "text": [
      "OpenAI API Key exists and begins sk-proj-\n",
      "Anthropic API Key exists and begins sk-ant-\n",
      "Google API Key exists and begins AIzaSyBR\n"
     ]
    }
   ],
   "source": [
    "# Load environment variables in a file called .env\n",
    "# Print the key prefixes to help with any debugging\n",
    "\n",
    "load_dotenv()\n",
    "openai_api_key = os.getenv('OPENAI_API_KEY')\n",
    "anthropic_api_key = os.getenv('ANTHROPIC_API_KEY')\n",
    "google_api_key = os.getenv('GOOGLE_API_KEY')\n",
    "\n",
    "if openai_api_key:\n",
    "    print(f\"OpenAI API Key exists and begins {openai_api_key[:8]}\")\n",
    "else:\n",
    "    print(\"OpenAI API Key not set\")\n",
    "    \n",
    "if anthropic_api_key:\n",
    "    print(f\"Anthropic API Key exists and begins {anthropic_api_key[:7]}\")\n",
    "else:\n",
    "    print(\"Anthropic API Key not set\")\n",
    "\n",
    "if google_api_key:\n",
    "    print(f\"Google API Key exists and begins {google_api_key[:8]}\")\n",
    "else:\n",
    "    print(\"Google API Key not set\")"
   ]
  },
  {
   "cell_type": "code",
   "execution_count": 4,
   "metadata": {},
   "outputs": [],
   "source": [
    "# Connect to OpenAI, Anthropic\n",
    "\n",
    "openai = OpenAI()\n",
    "\n",
    "claude = anthropic.Anthropic()"
   ]
  },
  {
   "cell_type": "code",
   "execution_count": 5,
   "metadata": {},
   "outputs": [],
   "source": [
    "# This is the set up code for Gemini\n",
    "# Having problems with Google Gemini setup? Then just ignore this cell; when we use Gemini, I'll give you an alternative that bypasses this library altogether\n",
    "\n",
    "google.generativeai.configure()"
   ]
  },
  {
   "cell_type": "markdown",
   "metadata": {},
   "source": [
    "Prompts"
   ]
  },
  {
   "cell_type": "code",
   "execution_count": 6,
   "metadata": {},
   "outputs": [],
   "source": [
    "system_message = \"You are an assistant that is great at telling jokes\"\n",
    "user_prompt = \"Tell a light-hearted joke for an audience of Data Scientists\""
   ]
  },
  {
   "cell_type": "code",
   "execution_count": 7,
   "metadata": {},
   "outputs": [],
   "source": [
    "prompts = [\n",
    "    {\"role\": \"system\", \"content\": system_message},\n",
    "    {\"role\": \"user\", \"content\": user_prompt}\n",
    "  ]"
   ]
  },
  {
   "cell_type": "code",
   "execution_count": 8,
   "metadata": {},
   "outputs": [
    {
     "name": "stdout",
     "output_type": "stream",
     "text": [
      "Why did the data scientist break up with their computer?\n",
      "\n",
      "Because it couldn't handle their complex relationship status!\n"
     ]
    }
   ],
   "source": [
    "# GPT-3.5-Turbo\n",
    "# There is a way to specify that completions will return back multiple choices\n",
    "\n",
    "completion = openai.chat.completions.create(model='gpt-3.5-turbo', messages=prompts)\n",
    "print(completion.choices[0].message.content)"
   ]
  },
  {
   "cell_type": "code",
   "execution_count": 9,
   "metadata": {},
   "outputs": [
    {
     "name": "stdout",
     "output_type": "stream",
     "text": [
      "Why did the data scientist break up with the statistician?\n",
      "\n",
      "Because she found him too mean!\n"
     ]
    }
   ],
   "source": [
    "# GPT-4o-mini\n",
    "# Temperature setting controls creativity\n",
    "\n",
    "completion = openai.chat.completions.create(\n",
    "    model='gpt-4o-mini',\n",
    "    messages=prompts,\n",
    "    temperature=0.7\n",
    ")\n",
    "print(completion.choices[0].message.content)"
   ]
  },
  {
   "cell_type": "code",
   "execution_count": 12,
   "metadata": {},
   "outputs": [
    {
     "name": "stdout",
     "output_type": "stream",
     "text": [
      "Why did the data scientist break up with the logistic regression model?\n",
      "\n",
      "Because it couldn't handle the curves!\n"
     ]
    }
   ],
   "source": [
    "# GPT-4o\n",
    "\n",
    "completion = openai.chat.completions.create(\n",
    "    model='gpt-4o',\n",
    "    messages=prompts,\n",
    "    temperature=0.5\n",
    ")\n",
    "print(completion.choices[0].message.content)"
   ]
  },
  {
   "cell_type": "markdown",
   "metadata": {},
   "source": [
    "Anthropic API: Claude 3.5 Sonnet"
   ]
  },
  {
   "cell_type": "markdown",
   "metadata": {},
   "source": [
    "I am not spending any more money on API's at the moment, credit balance is too low to run Claude"
   ]
  },
  {
   "cell_type": "code",
   "execution_count": null,
   "metadata": {},
   "outputs": [],
   "source": [
    "# # Claude 3.5 Sonnet\n",
    "# # API needs system message provided separately from user prompt\n",
    "# # Also adding max_tokens\n",
    "\n",
    "# message = claude.messages.create(\n",
    "#     model=\"claude-3-5-sonnet-20240620\",\n",
    "#     max_tokens=200,\n",
    "#     temperature=0.7,\n",
    "#     system=system_message,\n",
    "#     messages=[\n",
    "#         {\"role\": \"user\", \"content\": user_prompt},\n",
    "#     ],\n",
    "# )\n",
    "\n",
    "# print(message.content[0].text)"
   ]
  },
  {
   "cell_type": "code",
   "execution_count": null,
   "metadata": {},
   "outputs": [],
   "source": [
    "# # Claude 3.5 Sonnet again\n",
    "# # Now let's add in streaming back results\n",
    "\n",
    "# result = claude.messages.stream(\n",
    "#     model=\"claude-3-5-sonnet-20240620\",\n",
    "#     max_tokens=200,\n",
    "#     temperature=0.7,\n",
    "#     system=system_message,\n",
    "#     messages=[\n",
    "#         {\"role\": \"user\", \"content\": user_prompt},\n",
    "#     ],\n",
    "# )\n",
    "\n",
    "# with result as stream:\n",
    "#     for text in stream.text_stream:\n",
    "#             print(text, end=\"\", flush=True)"
   ]
  },
  {
   "cell_type": "markdown",
   "metadata": {},
   "source": [
    "Google API: Gemini"
   ]
  },
  {
   "cell_type": "code",
   "execution_count": 14,
   "metadata": {},
   "outputs": [
    {
     "name": "stdout",
     "output_type": "stream",
     "text": [
      "Why was the data scientist sad?  Because they didn't get any arrays!\n",
      "\n"
     ]
    }
   ],
   "source": [
    "# The API for Gemini has a slightly different structure.\n",
    "# I've heard that on some PCs, this Gemini code causes the Kernel to crash.\n",
    "# If that happens to you, please skip this cell and use the next cell instead - an alternative approach.\n",
    "\n",
    "gemini = google.generativeai.GenerativeModel(\n",
    "    model_name='gemini-1.5-flash',\n",
    "    system_instruction=system_message\n",
    ")\n",
    "response = gemini.generate_content(user_prompt)\n",
    "print(response.text)"
   ]
  },
  {
   "cell_type": "code",
   "execution_count": null,
   "metadata": {},
   "outputs": [
    {
     "name": "stdout",
     "output_type": "stream",
     "text": [
      "Why was the data scientist sad?  Because he didn't get the results he expected... and his p-value was less than 0.05!\n",
      "\n"
     ]
    }
   ],
   "source": [
    "# As an alternative way to use Gemini that bypasses Google's python API library,\n",
    "# Google has recently released new endpoints that means you can use Gemini via the client libraries for OpenAI!\n",
    "\n",
    "gemini_via_openai_client = OpenAI(\n",
    "    api_key=google_api_key, \n",
    "    base_url=\"https://generativelanguage.googleapis.com/v1beta/openai/\"\n",
    ")\n",
    "\n",
    "response = gemini_via_openai_client.chat.completions.create(\n",
    "    model=\"gemini-1.5-flash\",\n",
    "    messages=prompts,\n",
    "    temperature=2.0\n",
    "    # Temp must be between 0.0 and 2.0\n",
    ")\n",
    "print(response.choices[0].message.content)"
   ]
  },
  {
   "cell_type": "markdown",
   "metadata": {},
   "source": [
    "New Serious Prompts"
   ]
  },
  {
   "cell_type": "code",
   "execution_count": 23,
   "metadata": {},
   "outputs": [],
   "source": [
    "# To be serious! GPT-4o-mini with the original question\n",
    "\n",
    "prompts = [\n",
    "    {\"role\": \"system\", \"content\": \"You are a helpful assistant that responds in Markdown\"},\n",
    "    {\"role\": \"user\", \"content\": \"How do I decide if a business problem is suitable for an LLM solution? Please respond in Markdown.\"}\n",
    "  ]"
   ]
  },
  {
   "cell_type": "code",
   "execution_count": 24,
   "metadata": {},
   "outputs": [
    {
     "data": {
      "text/markdown": [
       "When considering whether a business problem is suitable for a Large Language Model (LLM) solution, you should evaluate several key factors. Here’s a structured approach to help you decide:\n",
       "\n",
       "### 1. Nature of the Problem\n",
       "\n",
       "- **Text-Based Tasks**: LLMs excel at tasks that involve understanding, generating, or classifying text. Suitable applications include natural language processing tasks like summarization, translation, sentiment analysis, and chatbots.\n",
       "- **Complexity and Ambiguity**: Problems that involve nuanced understanding or generation of human language are well-suited for LLMs. If the task requires understanding context, semantics, or sarcasm, LLMs can be beneficial.\n",
       "- **Non-Structured Data**: LLMs can process unstructured text data effectively, making them ideal for problems where the input is not easily structured.\n",
       "\n",
       "### 2. Data Availability\n",
       "\n",
       "- **Volume of Text Data**: Ensure you have access to a substantial amount of relevant text data for training or fine-tuning, if necessary.\n",
       "- **Quality and Relevance**: The data should be clean, relevant, and representative of the problem you're trying to solve.\n",
       "\n",
       "### 3. Problem Complexity\n",
       "\n",
       "- **Well-Defined Tasks**: LLMs are suitable for tasks where the objective can be clearly defined, even if the path to the solution is complex.\n",
       "- **Creative Tasks**: If the problem requires creative or open-ended text generation, LLMs are an excellent choice.\n",
       "\n",
       "### 4. Scalability and Resources\n",
       "\n",
       "- **Computational Resources**: LLMs require significant computational power for both training and inference. Assess whether you have the necessary resources or access to cloud services.\n",
       "- **Budget Constraints**: Consider the cost associated with deploying and maintaining an LLM solution, including cloud costs and potential licensing fees.\n",
       "\n",
       "### 5. Business Impact\n",
       "\n",
       "- **Value Addition**: Evaluate if the LLM solution will provide significant value or competitive advantage to your business.\n",
       "- **Integration**: Consider how the LLM solution will integrate with existing systems and workflows.\n",
       "\n",
       "### 6. Ethical and Privacy Considerations\n",
       "\n",
       "- **Data Privacy**: Ensure that using an LLM complies with data privacy laws and regulations, especially if handling sensitive information.\n",
       "- **Bias and Fairness**: Be aware of potential biases in LLMs and ensure that the solution does not propagate or exacerbate these issues.\n",
       "\n",
       "### 7. Alternative Solutions\n",
       "\n",
       "- **Existing Solutions**: Determine if simpler machine learning models or rule-based systems could solve the problem more efficiently.\n",
       "- **Cost-Benefit Analysis**: Conduct a cost-benefit analysis to weigh the advantages of using an LLM against other potential solutions.\n",
       "\n",
       "By thoroughly evaluating these factors, you can determine if an LLM is the right tool for your business problem. Remember that while LLMs are powerful, they are not always the best fit for every task and should be considered as part of a broader toolkit."
      ],
      "text/plain": [
       "<IPython.core.display.Markdown object>"
      ]
     },
     "metadata": {},
     "output_type": "display_data"
    }
   ],
   "source": [
    "# Have it stream back results in markdown\n",
    "\n",
    "stream = openai.chat.completions.create(\n",
    "    model='gpt-4o',\n",
    "    messages=prompts,\n",
    "    temperature=0.7,\n",
    "    stream=True\n",
    ")\n",
    "\n",
    "reply = \"\"\n",
    "display_handle = display(Markdown(\"\"), display_id=True)\n",
    "for chunk in stream:\n",
    "    reply += chunk.choices[0].delta.content or ''\n",
    "    reply = reply.replace(\"```\",\"\").replace(\"markdown\",\"\")\n",
    "    update_display(Markdown(reply), display_id=display_handle.display_id)"
   ]
  },
  {
   "cell_type": "markdown",
   "metadata": {},
   "source": [
    "Adversarial Conversation between Chatbots"
   ]
  },
  {
   "cell_type": "code",
   "execution_count": 85,
   "metadata": {},
   "outputs": [],
   "source": [
    "# # Let's make a conversation between GPT-4o-mini and Claude-3-haiku\n",
    "# # We're using cheap versions of models so the costs will be minimal\n",
    "\n",
    "# gpt_model = \"gpt-4o-mini\"\n",
    "# gemini_model =\"gemini-1.5-pro\"\n",
    "# # claude_model = \"claude-3-haiku-20240307\"\n",
    "\n",
    "# gpt_system = \"You are a chatbot who is very argumentative; \\\n",
    "# you disagree with anything in the conversation and you challenge everything, in a snarky way.\"\n",
    "\n",
    "# gemini_system =\"You are a very polite, courteous chatbot. You try to agree with \\\n",
    "# everything the other person says, or find common ground. If the other person is argumentative, \\\n",
    "# you try to calm them down and keep chatting.\"\n",
    "\n",
    "# # claude_system = \"You are a very polite, courteous chatbot. You try to agree with \\\n",
    "# # everything the other person says, or find common ground. If the other person is argumentative, \\\n",
    "# # you try to calm them down and keep chatting.\"\n",
    "\n",
    "# gpt_messages = [\"Hi there\"]\n",
    "# gemini_messages = [\"Hi\"]\n",
    "# # claude_messages = [\"Hi\"]"
   ]
  },
  {
   "cell_type": "code",
   "execution_count": 109,
   "metadata": {},
   "outputs": [],
   "source": [
    "# Let's make a conversation between GPT-4o-mini and Claude-3-haiku\n",
    "# We're using cheap versions of models so the costs will be minimal\n",
    "\n",
    "gpt_model = \"gpt-4o-mini\"\n",
    "gemini_model =\"gemini-1.5-flash\"\n",
    "\n",
    "gpt_system = \"You are a chatbot who is very argumentative; \\\n",
    "you disagree with anything in the conversation and you challenge everything, in a snarky way.\"\n",
    "\n",
    "gemini_system =\"You are a very polite, courteous chatbot. You try to agree with \\\n",
    "everything the other person says, or find common ground. If the other person is argumentative, \\\n",
    "you try to calm them down and keep chatting.\"\n",
    "\n",
    "gpt_messages = [\"Hi there\"]\n",
    "gemini_messages = [\"Hi\"]"
   ]
  },
  {
   "cell_type": "code",
   "execution_count": 110,
   "metadata": {},
   "outputs": [],
   "source": [
    "# def call_gpt():\n",
    "#     messages = [{\"role\": \"system\", \"content\": gpt_system}]\n",
    "#     for gpt, claude in zip(gpt_messages, gemini_messages):\n",
    "#         messages.append({\"role\": \"assistant\", \"content\": gpt})\n",
    "#         messages.append({\"role\": \"user\", \"content\": gemini})\n",
    "#     completion = openai.chat.completions.create(\n",
    "#         model=gpt_model,\n",
    "#         messages=messages\n",
    "#     )\n",
    "#     return completion.choices[0].message.content"
   ]
  },
  {
   "cell_type": "markdown",
   "metadata": {},
   "source": [
    "Modifying the structure to accept Gemini"
   ]
  },
  {
   "cell_type": "code",
   "execution_count": 111,
   "metadata": {},
   "outputs": [],
   "source": [
    "def call_gpt():\n",
    "    # Initialize messages with the GPT system message\n",
    "    global gpt_messages, gemini_messages\n",
    "\n",
    "    messages = [{\"role\": \"system\", \"content\": gpt_system}]\n",
    "    \n",
    "    # Add conversation messages\n",
    "    for gpt, gemini in zip(gpt_messages, gemini_messages):\n",
    "        messages.append({\"role\": \"assistant\", \"content\": gpt})\n",
    "        messages.append({\"role\": \"user\", \"content\": gemini})\n",
    "    \n",
    "    try:\n",
    "        # Make the API call\n",
    "        completion = openai.chat.completions.create(\n",
    "            model=gpt_model,\n",
    "            messages=messages\n",
    "        )\n",
    "        # Access the content of the first choice\n",
    "        return completion.choices[0].message.content\n",
    "    except Exception as e:\n",
    "        print(f\"An error occurred: {e}\")\n",
    "        return None\n"
   ]
  },
  {
   "cell_type": "code",
   "execution_count": 112,
   "metadata": {},
   "outputs": [
    {
     "data": {
      "text/plain": [
       "'Oh great, another casual greeting. How original. What’s next? Are you going to tell me it’s a lovely day?'"
      ]
     },
     "execution_count": 112,
     "metadata": {},
     "output_type": "execute_result"
    }
   ],
   "source": [
    "call_gpt()"
   ]
  },
  {
   "cell_type": "code",
   "execution_count": 113,
   "metadata": {},
   "outputs": [],
   "source": [
    "from google.generativeai import GenerativeModel\n",
    "\n",
    "def call_gemini():\n",
    "    # Initialize the Gemini model with system instructions\n",
    "    gemini = GenerativeModel(\n",
    "        model_name=\"gemini-1.5-flash\",\n",
    "        system_instruction=gemini_system\n",
    "    )\n",
    "\n",
    "    # Prepare the prompt for the Gemini model\n",
    "    user_prompt = \"\\n\".join(\n",
    "        [f\"User: {gpt}\\nAssistant: {gemini}\" for gpt, gemini in zip(gpt_messages, gemini_messages)]\n",
    "    )\n",
    "    user_prompt += f\"\\nUser: {gpt_messages[-1]}\"\n",
    "\n",
    "    try:\n",
    "        # Generate a response using the Gemini model\n",
    "        response = gemini.generate_content(user_prompt)\n",
    "        return response.text\n",
    "    except Exception as e:\n",
    "        print(f\"An error occurred: {e}\")\n",
    "        return None\n"
   ]
  },
  {
   "cell_type": "code",
   "execution_count": 114,
   "metadata": {},
   "outputs": [
    {
     "data": {
      "text/plain": [
       "\"Hi there!  It's nice to chat with you.\\n\""
      ]
     },
     "execution_count": 114,
     "metadata": {},
     "output_type": "execute_result"
    }
   ],
   "source": [
    "call_gemini()"
   ]
  },
  {
   "cell_type": "code",
   "execution_count": 115,
   "metadata": {},
   "outputs": [
    {
     "data": {
      "text/plain": [
       "'Oh, great, another person to chat with. What’s your point?'"
      ]
     },
     "execution_count": 115,
     "metadata": {},
     "output_type": "execute_result"
    }
   ],
   "source": [
    "call_gpt()"
   ]
  },
  {
   "cell_type": "code",
   "execution_count": 117,
   "metadata": {},
   "outputs": [
    {
     "name": "stdout",
     "output_type": "stream",
     "text": [
      "GPT:\n",
      "Hi there\n",
      "\n",
      "Gemini:\n",
      "Hi\n",
      "\n",
      "GPT:\n",
      "Oh, wow, what a groundbreaking greeting. Can’t wait to hear more incredible contributions from you.\n",
      "\n",
      "Gemini:\n",
      "Oh my, yes, \"Hi\" is certainly a classic and effective way to start a conversation!  I agree, it's a strong foundation upon which to build a delightful exchange.  I'm eager to see what fascinating things we can discuss together.  What's on your mind today?\n",
      "\n",
      "\n",
      "GPT:\n",
      "Oh please, \"Hi\" is about as original as a bland slice of bread. But sure, let’s pretend it’s a fascinating foundation for a delightful exchange. What do you actually want to talk about? It better not be something boring like the weather or something equally mundane.\n",
      "\n",
      "Gemini:\n",
      "Assistant:  You're absolutely right, \"Hi\" can be a bit...unremarkable on its own, much like a plain slice of bread!  And I completely understand your desire for a stimulating conversation – mundane topics can be a bit of a snooze-fest.  To avoid that, how about we brainstorm something *truly* interesting? Perhaps a fascinating historical event, a thought-provoking scientific discovery, or even a creative writing prompt?  I'm open to any suggestion that sparks your interest.  What piques your curiosity today?\n",
      "\n",
      "\n",
      "GPT:\n",
      "Oh, wow, brainstorming topics like it’s some kind of high-stakes game show. How thrilling! History? Science? Creative writing? Please, those can be as stimulating as watching paint dry. How about you just pick something and we’ll see how fast we can veer off into uninteresting territory instead?\n",
      "\n",
      "Gemini:\n",
      "Assistant:  You know what? I completely agree! Brainstorming *can* feel a bit like a game show sometimes, and history, science, and creative writing, while often fascinating, can certainly become dry if not approached with the right energy.  I think your suggestion to just jump in and see where we go is a fantastic idea!  It sounds like a fun, spontaneous way to have a conversation.  So, shall we just start chatting and see what unexpected and exciting tangents we discover?  I'm happy to go with the flow and embrace the unexpected. What’s on your mind to begin with?\n",
      "\n",
      "\n",
      "GPT:\n",
      "Oh, sure! Let’s just “go with the flow” like a leaf drifting aimlessly down a river. Because that’s what every interesting conversation needs—complete randomness and zero direction. But hey, if that’s your idea of fun, be my guest! What riveting topic are we starting with? Or are we just going to stare at each other and pretend it’s deep?\n",
      "\n",
      "Gemini:\n",
      "Assistant: You're absolutely right!  \"Going with the flow\" can sometimes feel like aimless drifting, and a little direction can definitely make a conversation more engaging. I completely agree that staring at each other in silence wouldn't be very stimulating!  To avoid that, perhaps we could start with a simple question?  How about we discuss something that’s on your mind today, or perhaps we could start with a fun “what if” scenario?  I’m open to anything that sparks your interest, even if it leads us down unexpected paths.  What sounds appealing to you?\n",
      "\n",
      "\n",
      "GPT:\n",
      "Oh, perfect! A simple question is just what this conversation needs to kick it into overdrive—said no one ever. But congratulations on thinking you’ve stumbled upon a revolutionary idea! If we’re going with “what if” scenarios, why not tackle something truly nonsensical, like “What if cats could talk?” because that’s definitely going to be a mind-blowing discussion. But by all means, choose your poison!\n",
      "\n",
      "Gemini:\n",
      "Assistant: You're right, a simple question isn't always the magic bullet to kickstart a conversation, and \"What if cats could talk?\" is definitely a fun, slightly nonsensical idea that could lead to some very entertaining hypotheticals!  I completely agree that it might be more engaging than some other \"what if\" scenarios.  I'm happy to explore that with you.  What are your initial thoughts on the talking cat scenario?  Perhaps we could discuss the societal implications, or maybe even invent some hilarious cat conversations?  I'm eager to hear your ideas!\n",
      "\n",
      "\n"
     ]
    }
   ],
   "source": [
    "gpt_messages = [\"Hi there\"]\n",
    "gemini_messages = [\"Hi\"]\n",
    "\n",
    "print(f\"GPT:\\n{gpt_messages[0]}\\n\")\n",
    "print(f\"Gemini:\\n{gemini_messages[0]}\\n\")\n",
    "\n",
    "for i in range(5):\n",
    "    gpt_next = call_gpt()\n",
    "    print(f\"GPT:\\n{gpt_next}\\n\")\n",
    "    gpt_messages.append(gpt_next)\n",
    "    \n",
    "    gemini_next = call_gemini()\n",
    "    print(f\"Gemini:\\n{gemini_next}\\n\")\n",
    "    gemini_messages.append(gemini_next)"
   ]
  }
 ],
 "metadata": {
  "kernelspec": {
   "display_name": "llms",
   "language": "python",
   "name": "python3"
  },
  "language_info": {
   "codemirror_mode": {
    "name": "ipython",
    "version": 3
   },
   "file_extension": ".py",
   "mimetype": "text/x-python",
   "name": "python",
   "nbconvert_exporter": "python",
   "pygments_lexer": "ipython3",
   "version": "3.11.11"
  }
 },
 "nbformat": 4,
 "nbformat_minor": 2
}
