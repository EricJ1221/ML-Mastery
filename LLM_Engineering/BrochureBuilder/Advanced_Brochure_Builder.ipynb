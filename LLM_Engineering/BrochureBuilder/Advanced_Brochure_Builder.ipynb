{
 "cells": [
  {
   "cell_type": "markdown",
   "metadata": {},
   "source": [
    "#### This program will build a more advanced and refined Brochure utilizing Multi-shot prompting"
   ]
  },
  {
   "cell_type": "markdown",
   "metadata": {},
   "source": [
    "Import Statements"
   ]
  },
  {
   "cell_type": "code",
   "execution_count": 62,
   "metadata": {},
   "outputs": [],
   "source": [
    "import os\n",
    "import requests\n",
    "import json\n",
    "from typing import List\n",
    "from dotenv import load_dotenv\n",
    "from bs4 import BeautifulSoup\n",
    "from IPython.display import Markdown, display, update_display\n",
    "from openai import OpenAI"
   ]
  },
  {
   "cell_type": "markdown",
   "metadata": {},
   "source": [
    "Load OpenAI API Key"
   ]
  },
  {
   "cell_type": "code",
   "execution_count": 63,
   "metadata": {},
   "outputs": [
    {
     "name": "stdout",
     "output_type": "stream",
     "text": [
      "API key looks good so far\n"
     ]
    }
   ],
   "source": [
    "load_dotenv(override=True)\n",
    "api_key = os.getenv('OPENAI_API_KEY')\n",
    "\n",
    "if api_key and api_key.startswith('sk-proj-') and len(api_key)>10:\n",
    "    print(\"API key looks good so far\")\n",
    "else:\n",
    "    print(\"There might be a problem with your API key? Please visit the troubleshooting notebook!\")\n",
    "    \n",
    "MODEL = 'gpt-4o-mini'\n",
    "openai = OpenAI()"
   ]
  },
  {
   "cell_type": "markdown",
   "metadata": {},
   "source": [
    "WebPage Class"
   ]
  },
  {
   "cell_type": "code",
   "execution_count": 64,
   "metadata": {},
   "outputs": [],
   "source": [
    "headers = {\n",
    " \"User-Agent\": \"Mozilla/5.0 (Windows NT 10.0; Win64; x64) AppleWebKit/537.36 (KHTML, like Gecko) Chrome/117.0.0.0 Safari/537.36\"\n",
    "}\n",
    "\n",
    "class Website:\n",
    "    \"\"\"\n",
    "    A utility class to represent a Website that we have scraped, now with links\n",
    "    \"\"\"\n",
    "\n",
    "    def __init__(self, url):\n",
    "        self.url = url\n",
    "        response = requests.get(url, headers=headers)\n",
    "        self.body = response.content\n",
    "        soup = BeautifulSoup(self.body, 'html.parser')\n",
    "        self.title = soup.title.string if soup.title else \"No title found\"\n",
    "        if soup.body:\n",
    "            for irrelevant in soup.body([\"script\", \"style\", \"img\", \"input\"]):\n",
    "                irrelevant.decompose()\n",
    "            self.text = soup.body.get_text(separator=\"\\n\", strip=True)\n",
    "        else:\n",
    "            self.text = \"\"\n",
    "        links = [link.get('href') for link in soup.find_all('a')]\n",
    "        self.links = [link for link in links if link]\n",
    "\n",
    "    def get_contents(self):\n",
    "        return f\"Webpage Title:\\n{self.title}\\nWebpage Contents:\\n{self.text}\\n\\n\""
   ]
  },
  {
   "cell_type": "markdown",
   "metadata": {},
   "source": [
    "Link System Prompt"
   ]
  },
  {
   "cell_type": "code",
   "execution_count": 65,
   "metadata": {},
   "outputs": [],
   "source": [
    "link_system_prompt = \"You are provided with a list of links found on a webpage. \\\n",
    "You are able to decide which of the links would be most relevant to include in a brochure about the company, \\\n",
    "such as links to an About page, or a Company page, or Careers/Jobs pages.\\n\"\n",
    "link_system_prompt += \"You should respond in JSON as in this example:\"\n",
    "link_system_prompt += \"\"\"\n",
    "{\n",
    "    \"links\": [\n",
    "        {\"type\": \"about page\", \"url\": \"https://full.url/goes/here/about\"},\n",
    "        {\"type\": \"careers page\": \"url\": \"https://another.full.url/careers\"}\n",
    "    ]\n",
    "}\n",
    "\"\"\""
   ]
  },
  {
   "cell_type": "code",
   "execution_count": 66,
   "metadata": {},
   "outputs": [],
   "source": [
    "# print(link_system_prompt)"
   ]
  },
  {
   "cell_type": "markdown",
   "metadata": {},
   "source": [
    "Function to get links based on User Prompt\n",
    "- Purpose: Constructs a prompt for extracting relevant links.\n",
    "- Input: website (a Website object containing the URL and links).\n",
    "- Steps:\n",
    "    1. Combines the URL and links into a prompt.\n",
    "    2. Instructs the model to exclude irrelevant links (e.g., Terms of Service).\n",
    "- Output: A structured prompt for link extraction."
   ]
  },
  {
   "cell_type": "code",
   "execution_count": 67,
   "metadata": {},
   "outputs": [],
   "source": [
    "# def get_links_user_prompt(website):\n",
    "#     user_prompt = f\"Here is the list of links on the website of {website.url} - \"\n",
    "#     user_prompt += \"please decide which of these are relevant web links for a brochure about the company, respond with the full https URL in JSON format. \\\n",
    "# Do not include Terms of Service, Privacy, email links.\\n\"\n",
    "#     user_prompt += \"Links (some might be relative links):\\n\"\n",
    "#     user_prompt += \"\\n\".join(website.links)\n",
    "#     return user_prompt"
   ]
  },
  {
   "cell_type": "markdown",
   "metadata": {},
   "source": [
    "Get Links Function\n",
    "- Purpose: Extracts and categorizes relevant links from the webpage.\n",
    "- Input: url (webpage URL).\n",
    "- Steps:\n",
    "    1. Initializes a Website object with the given URL.\n",
    "    2. Constructs a system prompt (link_system_prompt) and a user prompt via get_links_user_prompt.\n",
    "    3. Calls OpenAI's API with the prompts to categorize the links.\n",
    "    4. Parses and returns the API's JSON response.\n",
    "- Output: A dictionary of categorized links (e.g., About page, Careers page)."
   ]
  },
  {
   "cell_type": "code",
   "execution_count": 68,
   "metadata": {},
   "outputs": [],
   "source": [
    "# def get_links(url):\n",
    "#     website = Website(url)\n",
    "#     response = openai.chat.completions.create(\n",
    "#         model=MODEL,\n",
    "#         messages=[\n",
    "#             {\"role\": \"system\", \"content\": link_system_prompt},\n",
    "#             {\"role\": \"user\", \"content\": get_links_user_prompt(website)}\n",
    "#       ],\n",
    "#         response_format={\"type\": \"json_object\"}\n",
    "#     )\n",
    "#     result = response.choices[0].message.content\n",
    "#     return json.loads(result)"
   ]
  },
  {
   "cell_type": "markdown",
   "metadata": {},
   "source": [
    "#  Expanding on original work for Multi Shot prompting"
   ]
  },
  {
   "cell_type": "markdown",
   "metadata": {},
   "source": [
    "Fetch All Links Functions"
   ]
  },
  {
   "cell_type": "code",
   "execution_count": 69,
   "metadata": {},
   "outputs": [],
   "source": [
    "def fetch_all_links(website):\n",
    "    user_prompt = f\"Here is the list of links found on the website {website.url}:\\n\"\n",
    "    user_prompt += \"\\n\".join(website.links)\n",
    "    user_prompt += \"\\nAnalyze these links to extract the most relevant ones for a company brochure.\"\n",
    "    response = openai.chat.completions.create(\n",
    "        model=MODEL,\n",
    "        messages=[\n",
    "            {\"role\": \"system\", \"content\": link_system_prompt},\n",
    "            {\"role\": \"user\", \"content\": user_prompt}\n",
    "        ],\n",
    "    )\n",
    "    return response.choices[0].message.content\n"
   ]
  },
  {
   "cell_type": "markdown",
   "metadata": {},
   "source": [
    "Categorize Links Function"
   ]
  },
  {
   "cell_type": "code",
   "execution_count": 70,
   "metadata": {},
   "outputs": [],
   "source": [
    "def categorize_links(links):\n",
    "    user_prompt = f\"The following links were extracted:\\n{links}\\n\"\n",
    "    user_prompt += \"Categorize each link into one of the following types: 'About Page,' 'Careers Page,' 'Contact Page,' or 'Other.'\"\n",
    "    response = openai.chat.completions.create(\n",
    "        model=MODEL,\n",
    "        messages=[\n",
    "            {\"role\": \"system\", \"content\": link_system_prompt},\n",
    "            {\"role\": \"user\", \"content\": user_prompt}\n",
    "        ],\n",
    "    )\n",
    "    return response.choices[0].message.content\n"
   ]
  },
  {
   "cell_type": "markdown",
   "metadata": {},
   "source": [
    "Filter Relevant Links Function"
   ]
  },
  {
   "cell_type": "code",
   "execution_count": 71,
   "metadata": {},
   "outputs": [],
   "source": [
    "def filter_relevant_links(categorized_links):\n",
    "    user_prompt = f\"The following links have been categorized:\\n{categorized_links}\\n\"\n",
    "    user_prompt += \"Filter out irrelevant links (e.g., 'Terms of Service,' 'Privacy Policy'). Return only the relevant links in JSON format.\"\n",
    "    response = openai.chat.completions.create(\n",
    "        model=MODEL,\n",
    "        messages=[\n",
    "            {\"role\": \"system\", \"content\": link_system_prompt},\n",
    "            {\"role\": \"user\", \"content\": user_prompt}\n",
    "        ],\n",
    "    )\n",
    "    return response.choices[0].message.content\n"
   ]
  },
  {
   "cell_type": "markdown",
   "metadata": {},
   "source": [
    "Confirm Links Function"
   ]
  },
  {
   "cell_type": "code",
   "execution_count": 72,
   "metadata": {},
   "outputs": [],
   "source": [
    "def confirm_links(filtered_links):\n",
    "    user_prompt = f\"The following links have been filtered and deemed relevant:\\n{filtered_links}\\n\"\n",
    "    user_prompt += \"Please confirm these are the best links for a company brochure.\"\n",
    "    response = openai.chat.completions.create(\n",
    "        model=MODEL,\n",
    "        messages=[\n",
    "            {\"role\": \"system\", \"content\": link_system_prompt},\n",
    "            {\"role\": \"user\", \"content\": user_prompt}\n",
    "        ],\n",
    "    )\n",
    "    return response.choices[0].message.content\n"
   ]
  },
  {
   "cell_type": "markdown",
   "metadata": {},
   "source": [
    "Get Links Multi Shot Function"
   ]
  },
  {
   "cell_type": "code",
   "execution_count": 73,
   "metadata": {},
   "outputs": [],
   "source": [
    "def get_links_multi_shot(url):\n",
    "    website = Website(url)\n",
    "    \n",
    "    # Step 1: Fetch all links\n",
    "    all_links = fetch_all_links(website)\n",
    "    print(\"All Links Fetched:\", all_links)\n",
    "    \n",
    "    # Step 2: Categorize links\n",
    "    categorized_links = categorize_links(all_links)\n",
    "    print(\"Categorized Links:\", categorized_links)\n",
    "    \n",
    "    # Step 3: Filter relevant links\n",
    "    relevant_links = filter_relevant_links(categorized_links)\n",
    "    print(\"Filtered Relevant Links:\", relevant_links)\n",
    "    \n",
    "    # Step 4: Confirm final links\n",
    "    final_links = confirm_links(relevant_links)\n",
    "    print(\"Final Links:\", final_links)\n",
    "    \n",
    "    return final_links\n"
   ]
  },
  {
   "cell_type": "markdown",
   "metadata": {},
   "source": [
    "Get All Details function\n",
    "- Purpose: Fetches detailed content from the landing page and relevant links.\n",
    "- Input: url (landing page URL).\n",
    "- Steps:\n",
    "    1. Fetches the landing page content using Website(url).get_contents().\n",
    "    2. Calls get_links(url) to retrieve and categorize relevant links.\n",
    "    3. Iterates over the links, fetches their content, and appends it to the result.\n",
    "- Output: Combined content of the landing page and relevant links."
   ]
  },
  {
   "cell_type": "code",
   "execution_count": 74,
   "metadata": {},
   "outputs": [],
   "source": [
    "def get_all_details(url):\n",
    "    result = \"Landing page:\\n\"\n",
    "    result += Website(url).get_contents()\n",
    "    links = get_links_multi_shot(url)\n",
    "    print(\"Found links:\", links)\n",
    "    for link in links[\"links\"]:\n",
    "        result += f\"\\n\\n{link['type']}\\n\"\n",
    "        result += Website(link[\"url\"]).get_contents()\n",
    "    return result\n",
    "\n",
    "# We pass in a URL\n",
    "# the function goes to the landing page\n",
    "# Then lists the contents of the landing page\n",
    "# Then calls the previously made function calling gpt 4-0 mini\n",
    "# Prints that the links are found\n",
    "# Then goes through the list of links and performs the same process again"
   ]
  },
  {
   "cell_type": "markdown",
   "metadata": {},
   "source": [
    "Assistant System Prompt"
   ]
  },
  {
   "cell_type": "code",
   "execution_count": 75,
   "metadata": {},
   "outputs": [],
   "source": [
    "system_prompt = \"You are an assistant that analyzes the contents of several relevant pages from a company website \\\n",
    "and creates a short brochure about the company for prospective customers, investors and recruits. Respond in markdown.\\\n",
    "Include details of company culture, customers and careers/jobs if you have the information.\"\n",
    "\n",
    "# Or uncomment the lines below for a more humorous brochure - this demonstrates how easy it is to incorporate 'tone':\n",
    "\n",
    "# system_prompt = \"You are an assistant that analyzes the contents of several relevant pages from a company website \\\n",
    "# and creates a short humorous, entertaining, jokey brochure about the company for prospective customers, investors and recruits. Respond in markdown.\\\n",
    "# Include details of company culture, customers and careers/jobs if you have the information.\""
   ]
  },
  {
   "cell_type": "markdown",
   "metadata": {},
   "source": [
    "Get Brochure User Prompt Function\n",
    "- Purpose: Constructs the user-specific prompt for the GPT model.\n",
    "- Input: company_name and url.\n",
    "- Steps:\n",
    "    1. Calls get_all_details(url) to retrieve the content of the landing page and relevant links.\n",
    "    2. Constructs a prompt combining the company name and the content retrieved from get_all_details.\n",
    "    3. Truncates the prompt to 5,000 characters if necessary.\n",
    "- Output: A detailed user prompt for generating the brochure."
   ]
  },
  {
   "cell_type": "code",
   "execution_count": 76,
   "metadata": {},
   "outputs": [],
   "source": [
    "def get_brochure_user_prompt(company_name, url):\n",
    "    user_prompt = f\"You are looking at a company called: {company_name}\\n\"\n",
    "    user_prompt += f\"Here are the contents of its landing page and other relevant pages; use this information to build a short brochure of the company in markdown.\\n\"\n",
    "    user_prompt += get_all_details(url)\n",
    "    user_prompt = user_prompt[:5_000] # Truncate if more than 5,000 characters\n",
    "    return user_prompt"
   ]
  },
  {
   "cell_type": "code",
   "execution_count": 77,
   "metadata": {},
   "outputs": [],
   "source": [
    "# get_brochure_user_prompt(\"HuggingFace\", \"https://huggingface.co\")"
   ]
  },
  {
   "cell_type": "markdown",
   "metadata": {},
   "source": [
    "Create Brochure Function\n",
    "- Generates the final Brochure using OpenAI's GPT Model\n",
    "- input: company_name and url\n",
    "- Steps: \n",
    "    1. Calls get_brochure_user_prompt to generate a detailed user prompt.\n",
    "    2. Sends the system and user prompts to OpenAI's API.\n",
    "    3. Displays the markdown output using Markdown()"
   ]
  },
  {
   "cell_type": "code",
   "execution_count": 78,
   "metadata": {},
   "outputs": [],
   "source": [
    "# def create_brochure(company_name, url):\n",
    "#     response = openai.chat.completions.create(\n",
    "#         model=MODEL,\n",
    "#         messages=[\n",
    "#             {\"role\": \"system\", \"content\": system_prompt},\n",
    "#             {\"role\": \"user\", \"content\": get_brochure_user_prompt(company_name, url)}\n",
    "#           ],\n",
    "#     )\n",
    "#     result = response.choices[0].message.content\n",
    "#     display(Markdown(result))"
   ]
  },
  {
   "cell_type": "markdown",
   "metadata": {},
   "source": [
    "Multi-shot Create Brochure Function"
   ]
  },
  {
   "cell_type": "code",
   "execution_count": 79,
   "metadata": {},
   "outputs": [],
   "source": [
    "def create_brochure(company_name, url):\n",
    "    # Step 1: Generate About section\n",
    "    about_prompt = f\"Write a concise and professional 'About Us' section for {company_name} based on information from {url}.\"\n",
    "    about_response = openai.chat.completions.create(\n",
    "        model=MODEL,\n",
    "        messages=[\n",
    "            {\"role\": \"system\", \"content\": system_prompt},\n",
    "            {\"role\": \"user\", \"content\": about_prompt}\n",
    "        ],\n",
    "    )\n",
    "    about_section = about_response.choices[0].message.content\n",
    "\n",
    "    # Step 2: Generate Careers section\n",
    "    careers_prompt = f\"Write an engaging 'Careers' section for {company_name}, highlighting job opportunities and company culture.\"\n",
    "    careers_response = openai.chat.completions.create(\n",
    "        model=MODEL,\n",
    "        messages=[\n",
    "            {\"role\": \"system\", \"content\": system_prompt},\n",
    "            {\"role\": \"user\", \"content\": careers_prompt}\n",
    "        ],\n",
    "    )\n",
    "    careers_section = careers_response.choices[0].message.content\n",
    "\n",
    "    # Step 3: Generate Contact Information section\n",
    "    contact_prompt = f\"Write a 'Contact Information' section for {company_name} based on information from {url}.\"\n",
    "    contact_response = openai.chat.completions.create(\n",
    "        model=MODEL,\n",
    "        messages=[\n",
    "            {\"role\": \"system\", \"content\": system_prompt},\n",
    "            {\"role\": \"user\", \"content\": contact_prompt}\n",
    "        ],\n",
    "    )\n",
    "    contact_section = contact_response.choices[0].message.content\n",
    "\n",
    "    # Combine all sections into a single brochure\n",
    "    brochure = f\"# {company_name} Brochure\\n\\n\"\n",
    "    brochure += f\"## \\n{about_section}\\n\\n\"\n",
    "    brochure += f\"## \\n{careers_section}\\n\\n\"\n",
    "    brochure += f\"## \\n{contact_section}\\n\\n\"\n",
    "\n",
    "    # Display the final brochure\n",
    "    display(Markdown(brochure))\n"
   ]
  },
  {
   "cell_type": "code",
   "execution_count": 80,
   "metadata": {},
   "outputs": [
    {
     "data": {
      "text/markdown": [
       "# HuggingFace Brochure\n",
       "\n",
       "## \n",
       "# About Us\n",
       "\n",
       "At Hugging Face, we are transforming the landscape of artificial intelligence by providing innovative natural language processing (NLP) solutions that are accessible and efficient. Founded in 2016, our mission is to democratize AI and make it available to everyone. We believe that state-of-the-art tools should not be limited to large organizations but should empower individuals and small teams to experiment, innovate, and create.\n",
       "\n",
       "Our core product, the Hugging Face Transformers library, offers a range of pre-trained models that facilitate the development and deployment of machine learning applications. From text classification to question answering and beyond, our library has become the go-to resource for researchers, developers, and AI enthusiasts.\n",
       "\n",
       "We pride ourselves on our open-source philosophy, fostering a vibrant community around machine learning, and collaborating with researchers and engineers across the globe. Our commitment to transparency and accessibility encourages knowledge sharing and collaboration, making it easier for everyone to contribute to the AI revolution.\n",
       "\n",
       "At Hugging Face, we champion a diverse and inclusive company culture that values creativity, curiosity, and collaboration. Our team is composed of talented individuals from various backgrounds who are passionate about technology and its potential to change lives. We offer opportunities for growth and development, ensuring that every team member can thrive.\n",
       "\n",
       "Join us in our journey to make AI technology human-friendly and truly transformative for society. Whether you are a prospective customer, investor, or future team member, we invite you to explore the endless possibilities with Hugging Face.\n",
       "\n",
       "## \n",
       "# Careers at HuggingFace\n",
       "\n",
       "## Join Us in Shaping the Future of AI\n",
       "\n",
       "At HuggingFace, we are on a mission to democratize artificial intelligence and make it accessible to everyone. Our collaborative team is made up of passionate innovators from diverse backgrounds who thrive on tackling complex challenges. We believe that great ideas come from a mix of experiences, and we encourage open dialogue and a culture of experimentation. \n",
       "\n",
       "### Why Work at HuggingFace?\n",
       "\n",
       "- **Impactful Projects**: Work on groundbreaking technologies and projects that pave the way for the future of AI and machine learning. Your contributions will have a direct impact on developers, researchers, and everyday users worldwide.\n",
       "  \n",
       "- **Inclusive Culture**: Our culture is built on inclusion and belonging. We celebrate diversity and are committed to creating a workspace where every voice is heard and valued. We believe in equal opportunity for all and strive for representation in our workforce.\n",
       "  \n",
       "- **Continuous Learning**: At HuggingFace, we support professional growth through mentorship, workshops, and access to educational resources. Whether you're an experienced professional or just starting, you’ll have the tools you need to expand your expertise.\n",
       "  \n",
       "- **Collaborative Environment**: Collaboration and teamwork are at the heart of what we do. Our flat organization encourages open communication, where everyone feels empowered to share their ideas and feedback, fostering a dynamic exchange of knowledge among colleagues.\n",
       "\n",
       "### Opportunities\n",
       "\n",
       "We are looking for passionate individuals across various fields, including:\n",
       "\n",
       "- **Machine Learning Engineers**: If you are an expert in natural language processing or deep learning, you’ll find exciting opportunities to design and implement cutting-edge models.\n",
       "\n",
       "- **Data Scientists**: Join us in deriving insights and building predictive models that help shape the way our technologies function and evolve.\n",
       "\n",
       "- **Frontend and Backend Developers**: Contribute to our user-friendly platforms, ensuring seamless interaction for our community of users.\n",
       "\n",
       "- **Product Managers**: Help us innovate and focus on delivering products that meet the needs of our users while keeping us aligned with our mission.\n",
       "\n",
       "- **Marketing and Community Engagement**: Play a vital role in building our brand and connecting with the global AI community, sharing knowledge and resources.\n",
       "\n",
       "### Benefits\n",
       "\n",
       "- **Flexible Work Arrangements**: Enjoy a healthy work-life balance with remote work options and flexible hours that fit your lifestyle.\n",
       "\n",
       "- **Health and Wellness**: We prioritize the well-being of our team members, providing comprehensive health benefits and wellness programs to support a healthy lifestyle.\n",
       "\n",
       "- **Team Retreats and Social Events**: Engage with your colleagues beyond work with team-building retreats, hackathons, and casual gatherings to build camaraderie.\n",
       "\n",
       "### Get Involved!\n",
       "\n",
       "Are you excited to make a difference in the world of artificial intelligence? If you’re passionate, innovative, and ready to take the leap, we want to meet you! Explore our current job openings on our [careers page](#) and submit your application today.\n",
       "\n",
       "At HuggingFace, your journey begins here. Together, we can push the boundaries of what's possible in AI. Join us and be a part of something revolutionary!\n",
       "\n",
       "## \n",
       "# Contact Information\n",
       "\n",
       "For inquiries, support, or any assistance, please reach out to Hugging Face through the following channels:\n",
       "\n",
       "- **Website:** [huggingface.com](https://huggingface.com)\n",
       "- **Email:** contact@huggingface.co\n",
       "- **Social Media:**\n",
       "  - Twitter: [@huggingface](https://twitter.com/huggingface)\n",
       "  - LinkedIn: [Hugging Face](https://www.linkedin.com/company/huggingface)\n",
       "  - GitHub: [Hugging Face GitHub](https://github.com/huggingface)\n",
       "  \n",
       "Whether you’re a customer looking for support, an investor interested in our growth, or a prospective recruit eager to join our team, we would love to hear from you!\n",
       "\n"
      ],
      "text/plain": [
       "<IPython.core.display.Markdown object>"
      ]
     },
     "metadata": {},
     "output_type": "display_data"
    }
   ],
   "source": [
    "create_brochure(\"HuggingFace\", \"https://huggingface.com\")"
   ]
  },
  {
   "cell_type": "markdown",
   "metadata": {},
   "source": [
    "Translation to Spanish Function"
   ]
  },
  {
   "cell_type": "code",
   "execution_count": 90,
   "metadata": {},
   "outputs": [],
   "source": [
    "def translate_brochure_to_spanish(brochure_text):\n",
    "    # Prompt to translate the brochure\n",
    "    translation_to_spanish_prompt = (\n",
    "        f\"Translate the following text into Spanish:\\n\\n{brochure_text}\"\n",
    "    )\n",
    "    # Call the LLM for translation\n",
    "    response = openai.chat.completions.create(\n",
    "        model=MODEL,  # Ensure the model supports multilingual tasks\n",
    "        messages=[\n",
    "            {\"role\": \"system\", \"content\": \"You are a professional translator.\"},\n",
    "            {\"role\": \"user\", \"content\": translation_to_spanish_prompt}\n",
    "        ],\n",
    "    )\n",
    "    # Extract and return the translated content\n",
    "    translated_text = response.choices[0].message.content\n",
    "    return translated_text\n"
   ]
  },
  {
   "cell_type": "code",
   "execution_count": 91,
   "metadata": {},
   "outputs": [],
   "source": [
    "def create_brochure_in_spanish(company_name, url, translate=False):\n",
    "    # Step 1: Generate About section\n",
    "    about_prompt = f\"Write a concise and professional 'About Us' section for {company_name} based on information from {url}.\"\n",
    "    about_response = openai.chat.completions.create(\n",
    "        model=MODEL,\n",
    "        messages=[\n",
    "            {\"role\": \"system\", \"content\": system_prompt},\n",
    "            {\"role\": \"user\", \"content\": about_prompt}\n",
    "        ],\n",
    "    )\n",
    "    about_section = about_response.choices[0].message.content\n",
    "\n",
    "    # Step 2: Generate Careers section\n",
    "    careers_prompt = f\"Write an engaging 'Careers' section for {company_name}, highlighting job opportunities and company culture.\"\n",
    "    careers_response = openai.chat.completions.create(\n",
    "        model=MODEL,\n",
    "        messages=[\n",
    "            {\"role\": \"system\", \"content\": system_prompt},\n",
    "            {\"role\": \"user\", \"content\": careers_prompt}\n",
    "        ],\n",
    "    )\n",
    "    careers_section = careers_response.choices[0].message.content\n",
    "\n",
    "    # Step 3: Generate Contact Information section\n",
    "    contact_prompt = f\"Write a 'Contact Information' section for {company_name} based on information from {url}.\"\n",
    "    contact_response = openai.chat.completions.create(\n",
    "        model=MODEL,\n",
    "        messages=[\n",
    "            {\"role\": \"system\", \"content\": system_prompt},\n",
    "            {\"role\": \"user\", \"content\": contact_prompt}\n",
    "        ],\n",
    "    )\n",
    "    contact_section = contact_response.choices[0].message.content\n",
    "\n",
    "    # Combine all sections into a single brochure\n",
    "    brochure = f\"# {company_name} Brochure\\n\\n\"\n",
    "    brochure += f\"## \\n{about_section}\\n\\n\"\n",
    "    brochure += f\"## \\n{careers_section}\\n\\n\"\n",
    "    brochure += f\"## \\n{contact_section}\\n\\n\"\n",
    "\n",
    "    if translate:\n",
    "        brochure = translate_brochure_to_spanish(brochure)\n",
    "\n",
    "    # Display the final brochure\n",
    "    display(Markdown(brochure))\n"
   ]
  },
  {
   "cell_type": "code",
   "execution_count": 92,
   "metadata": {},
   "outputs": [
    {
     "data": {
      "text/markdown": [
       "# Folleto de Hugging Face\n",
       "\n",
       "## \n",
       "# Sobre Nosotros\n",
       "\n",
       "¡Bienvenido a Hugging Face!\n",
       "\n",
       "En Hugging Face, estamos comprometidos con la democratización de la inteligencia artificial. Fundada en 2016, hemos crecido rápidamente hasta convertirnos en una organización líder en investigación de IA y plataforma de código abierto especializada en Procesamiento de Lenguaje Natural (NLP) y aprendizaje profundo. Nuestra misión es hacer que la tecnología de IA sea accesible y reutilizable para todos: investigadores, desarrolladores y empresas por igual.\n",
       "\n",
       "Nuestra vibrante comunidad se basa en una cultura de colaboración e inclusividad, donde la innovación florece. Creemos en el poder de las contribuciones de código abierto y alentamos activamente a nuestros usuarios a compartir y colaborar en proyectos, fomentando un rico ecosistema de conocimiento y recursos compartidos.\n",
       "\n",
       "Estamos orgullosos de apoyar a una amplia gama de clientes, desde startups hasta grandes empresas, ofreciendo herramientas y modelos de vanguardia que simplifican y agilizan la integración de IA. Nuestros productos insignia, como la biblioteca Transformers y el Hugging Face Hub, empoderan a los usuarios para construir, compartir y desplegar sus propios modelos de aprendizaje automático de última generación, transformando la forma en que las empresas aprovechan la IA.\n",
       "\n",
       "Únete a nosotros en nuestro viaje para dar forma al futuro de la IA. Siempre estamos en busca de personas talentosas que compartan nuestra pasión y visión. Si eres una persona motivada, innovadora y ansiosa por trabajar en un entorno de apoyo, considera explorar nuestras oportunidades laborales en Hugging Face, donde tus contribuciones pueden tener un impacto real.\n",
       "\n",
       "Juntos, desbloqueemos el potencial de la IA, haciéndola un aliado poderoso para todos.\n",
       "\n",
       "## \n",
       "## Carreras en Hugging Face\n",
       "\n",
       "En Hugging Face, creemos que el futuro de la IA se trata de hacer que la tecnología sea accesible y beneficiosa para todos. Estamos en una misión para democratizar el aprendizaje automático y transformar la forma en que construimos, compartimos y nos comunicamos con modelos de IA. Si te apasiona la IA, la colaboración y la innovación, ¡puedes encontrar tu próximo camino con nosotros!\n",
       "\n",
       "### ¿Por qué trabajar con nosotros?\n",
       "\n",
       "**Cultura Inclusiva y Colaborativa**  \n",
       "En Hugging Face, nuestra cultura se basa en el trabajo en equipo y la inclusividad. Entendemos que las perspectivas diversas alimentan la innovación, así que invitamos a personas de todos los ámbitos de la vida a unirse a nuestro equipo. Fomentamos un entorno amigable y abierto donde cada voz es valorada y todos pueden contribuir con sus ideas, independientemente de su formación.\n",
       "\n",
       "**Equilibrio entre Trabajo y Vida Personal**  \n",
       "Priorizamos el bienestar de nuestros miembros del equipo. Con horarios de trabajo flexibles y la opción de trabajar de forma remota, promovemos un saludable equilibrio entre el trabajo y la vida personal que te permite destacar tanto profesional como personalmente. Creemos que un equipo feliz es un equipo productivo.\n",
       "\n",
       "**Aprendizaje y Crecimiento Continuos**  \n",
       "Unirse a Hugging Face significa sumergirse en un mundo de aprendizaje continuo. Trabajarás junto a expertos líderes en IA y aprendizaje automático, mejorarás tus habilidades y desarrollarás tu carrera en un entorno de apoyo y desafío. Ofrecemos oportunidades de desarrollo profesional, mentoría y proyectos prácticos que marcan la diferencia.\n",
       "\n",
       "### Oportunidades a la Vista\n",
       "\n",
       "Estamos constantemente buscando personas talentosas para unirse a nuestro diverso equipo. Ya seas un ingeniero experimentado, un investigador en ciernes o un diseñador brillante, hay un lugar para ti en Hugging Face. Actualmente, nuestras ofertas de trabajo incluyen:\n",
       "\n",
       "- **Ingenieros de Aprendizaje Automático**: Ayúdanos a avanzar en las capacidades de nuestros modelos de código abierto y a llevar tecnología de vanguardia a un público más amplio.\n",
       "- **Científicos de Datos**: Trabaja con grandes conjuntos de datos para extraer información que mejore nuestros productos y fomente la innovación.\n",
       "- **Gerentes de Producto**: Guía la hoja de ruta de nuestros productos de IA y asegúrate de que cumplamos con las altas expectativas de nuestra comunidad.\n",
       "- **Gerentes de Comunidad**: Interactúa con nuestra apasionada base de usuarios y promueve la colaboración dentro de la comunidad de IA.\n",
       "- **Desarrolladores de Software**: Contribuye a la robustez y escalabilidad de nuestra plataforma, asegurando una experiencia fluida para los usuarios.\n",
       "\n",
       "### ¡Únete a la Familia Hugging Face!\n",
       "\n",
       "Si compartes nuestra visión de crear un panorama de IA más inclusivo e innovador, considera ser parte de nuestro equipo. Consulta nuestra [página de carreras](https://huggingface.co/careers) para ver las últimas ofertas de trabajo y aprender más sobre el proceso de aplicación. En Hugging Face, no solo estamos construyendo IA; estamos construyendo una comunidad. ¡Ven y sé parte de ella!\n",
       "\n",
       "## \n",
       "# Información de Contacto\n",
       "\n",
       "Para cualquier consulta, comentario o soporte, puedes ponerte en contacto con Hugging Face a través de los siguientes canales:\n",
       "\n",
       "### Consultas Generales\n",
       "- **Correo Electrónico:** info@huggingface.co\n",
       "- **Sitio Web:** [Hugging Face](https://huggingface.com)\n",
       "\n",
       "### Soporte\n",
       "Para soporte técnico o asistencia:\n",
       "- **Página de Soporte:** [Hugging Face Support](https://huggingface.co/support)\n",
       "\n",
       "### Redes Sociales\n",
       "Mantente conectado con nosotros a través de las redes sociales:\n",
       "- **Twitter:** [@HuggingFace](https://twitter.com/huggingface)\n",
       "- **LinkedIn:** [Hugging Face LinkedIn](https://www.linkedin.com/company/hugging-face)\n",
       "\n",
       "### Dirección\n",
       "Hugging Face  \n",
       "[123 Avenida, Ciudad, Estado, Código Postal]  \n",
       "*Nota: Por favor verifica la dirección exacta a través del sitio web, ya que puede cambiar.*\n",
       "\n",
       "---\n",
       "\n",
       "¡No dudes en ponerte en contacto si tienes alguna pregunta o necesitas más información!"
      ],
      "text/plain": [
       "<IPython.core.display.Markdown object>"
      ]
     },
     "metadata": {},
     "output_type": "display_data"
    }
   ],
   "source": [
    "create_brochure_in_spanish(\"HuggingFace\", \"https://huggingface.com\", True)"
   ]
  }
 ],
 "metadata": {
  "kernelspec": {
   "display_name": "llms",
   "language": "python",
   "name": "python3"
  },
  "language_info": {
   "codemirror_mode": {
    "name": "ipython",
    "version": 3
   },
   "file_extension": ".py",
   "mimetype": "text/x-python",
   "name": "python",
   "nbconvert_exporter": "python",
   "pygments_lexer": "ipython3",
   "version": "3.11.11"
  }
 },
 "nbformat": 4,
 "nbformat_minor": 2
}
