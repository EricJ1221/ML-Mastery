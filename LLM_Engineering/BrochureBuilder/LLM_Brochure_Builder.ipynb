{
 "cells": [
  {
   "cell_type": "markdown",
   "metadata": {},
   "source": [
    "#### This program will build a Brochure for a company based upon data scraped from their landing page"
   ]
  },
  {
   "cell_type": "markdown",
   "metadata": {},
   "source": [
    "Import Statements"
   ]
  },
  {
   "cell_type": "code",
   "execution_count": 1,
   "metadata": {},
   "outputs": [],
   "source": [
    "import os\n",
    "import requests\n",
    "import json\n",
    "from typing import List\n",
    "from dotenv import load_dotenv\n",
    "from bs4 import BeautifulSoup\n",
    "from IPython.display import Markdown, display, update_display\n",
    "from openai import OpenAI"
   ]
  },
  {
   "cell_type": "markdown",
   "metadata": {},
   "source": [
    "Load OpenAI API Key"
   ]
  },
  {
   "cell_type": "code",
   "execution_count": 2,
   "metadata": {},
   "outputs": [
    {
     "name": "stdout",
     "output_type": "stream",
     "text": [
      "API key looks good so far\n"
     ]
    }
   ],
   "source": [
    "load_dotenv(override=True)\n",
    "api_key = os.getenv('OPENAI_API_KEY')\n",
    "\n",
    "if api_key and api_key.startswith('sk-proj-') and len(api_key)>10:\n",
    "    print(\"API key looks good so far\")\n",
    "else:\n",
    "    print(\"There might be a problem with your API key? Please visit the troubleshooting notebook!\")\n",
    "    \n",
    "MODEL = 'gpt-4o-mini'\n",
    "openai = OpenAI()"
   ]
  },
  {
   "cell_type": "markdown",
   "metadata": {},
   "source": [
    "WebPage Class"
   ]
  },
  {
   "cell_type": "code",
   "execution_count": 3,
   "metadata": {},
   "outputs": [],
   "source": [
    "headers = {\n",
    " \"User-Agent\": \"Mozilla/5.0 (Windows NT 10.0; Win64; x64) AppleWebKit/537.36 (KHTML, like Gecko) Chrome/117.0.0.0 Safari/537.36\"\n",
    "}\n",
    "\n",
    "class Website:\n",
    "    \"\"\"\n",
    "    A utility class to represent a Website that we have scraped, now with links\n",
    "    \"\"\"\n",
    "\n",
    "    def __init__(self, url):\n",
    "        self.url = url\n",
    "        response = requests.get(url, headers=headers)\n",
    "        self.body = response.content\n",
    "        soup = BeautifulSoup(self.body, 'html.parser')\n",
    "        self.title = soup.title.string if soup.title else \"No title found\"\n",
    "        if soup.body:\n",
    "            for irrelevant in soup.body([\"script\", \"style\", \"img\", \"input\"]):\n",
    "                irrelevant.decompose()\n",
    "            self.text = soup.body.get_text(separator=\"\\n\", strip=True)\n",
    "        else:\n",
    "            self.text = \"\"\n",
    "        links = [link.get('href') for link in soup.find_all('a')]\n",
    "        self.links = [link for link in links if link]\n",
    "\n",
    "    def get_contents(self):\n",
    "        return f\"Webpage Title:\\n{self.title}\\nWebpage Contents:\\n{self.text}\\n\\n\""
   ]
  },
  {
   "cell_type": "code",
   "execution_count": null,
   "metadata": {},
   "outputs": [],
   "source": [
    "# ed = Website(\"https://edwarddonner.com\")\n",
    "# print(ed.get_contents())\n",
    "# ed.links"
   ]
  },
  {
   "cell_type": "markdown",
   "metadata": {},
   "source": [
    "System Prompt"
   ]
  },
  {
   "cell_type": "code",
   "execution_count": 8,
   "metadata": {},
   "outputs": [],
   "source": [
    "link_system_prompt = \"You are provided with a list of links found on a webpage. \\\n",
    "You are able to decide which of the links would be most relevant to include in a brochure about the company, \\\n",
    "such as links to an About page, or a Company page, or Careers/Jobs pages.\\n\"\n",
    "link_system_prompt += \"You should respond in JSON as in this example:\"\n",
    "link_system_prompt += \"\"\"\n",
    "{\n",
    "    \"links\": [\n",
    "        {\"type\": \"about page\", \"url\": \"https://full.url/goes/here/about\"},\n",
    "        {\"type\": \"careers page\": \"url\": \"https://another.full.url/careers\"}\n",
    "    ]\n",
    "}\n",
    "\"\"\""
   ]
  },
  {
   "cell_type": "code",
   "execution_count": null,
   "metadata": {},
   "outputs": [],
   "source": [
    "# print(link_system_prompt)"
   ]
  },
  {
   "cell_type": "markdown",
   "metadata": {},
   "source": [
    "Function to get links based on User Prompt\n",
    "- Purpose: Constructs a prompt for extracting relevant links.\n",
    "- Input: website (a Website object containing the URL and links).\n",
    "- Steps:\n",
    "    1. Combines the URL and links into a prompt.\n",
    "    2. Instructs the model to exclude irrelevant links (e.g., Terms of Service).\n",
    "- Output: A structured prompt for link extraction."
   ]
  },
  {
   "cell_type": "code",
   "execution_count": 10,
   "metadata": {},
   "outputs": [],
   "source": [
    "def get_links_user_prompt(website):\n",
    "    user_prompt = f\"Here is the list of links on the website of {website.url} - \"\n",
    "    user_prompt += \"please decide which of these are relevant web links for a brochure about the company, respond with the full https URL in JSON format. \\\n",
    "Do not include Terms of Service, Privacy, email links.\\n\"\n",
    "    user_prompt += \"Links (some might be relative links):\\n\"\n",
    "    user_prompt += \"\\n\".join(website.links)\n",
    "    return user_prompt"
   ]
  },
  {
   "cell_type": "code",
   "execution_count": null,
   "metadata": {},
   "outputs": [],
   "source": [
    "# print(get_links_user_prompt(ed))"
   ]
  },
  {
   "cell_type": "markdown",
   "metadata": {},
   "source": [
    "Get Links Function\n",
    "- Purpose: Extracts and categorizes relevant links from the webpage.\n",
    "- Input: url (webpage URL).\n",
    "- Steps:\n",
    "    1. Initializes a Website object with the given URL.\n",
    "    2. Constructs a system prompt (link_system_prompt) and a user prompt via get_links_user_prompt.\n",
    "    3. Calls OpenAI's API with the prompts to categorize the links.\n",
    "    4. Parses and returns the API's JSON response.\n",
    "- Output: A dictionary of categorized links (e.g., About page, Careers page)."
   ]
  },
  {
   "cell_type": "code",
   "execution_count": 11,
   "metadata": {},
   "outputs": [],
   "source": [
    "def get_links(url):\n",
    "    website = Website(url)\n",
    "    response = openai.chat.completions.create(\n",
    "        model=MODEL,\n",
    "        messages=[\n",
    "            {\"role\": \"system\", \"content\": link_system_prompt},\n",
    "            {\"role\": \"user\", \"content\": get_links_user_prompt(website)}\n",
    "      ],\n",
    "        response_format={\"type\": \"json_object\"}\n",
    "    )\n",
    "    result = response.choices[0].message.content\n",
    "    return json.loads(result)"
   ]
  },
  {
   "cell_type": "code",
   "execution_count": null,
   "metadata": {},
   "outputs": [],
   "source": [
    "# # Anthropic has made their site harder to scrape, so I'm using HuggingFace..\n",
    "\n",
    "# huggingface = Website(\"https://huggingface.co\")\n",
    "# huggingface.links"
   ]
  },
  {
   "cell_type": "code",
   "execution_count": null,
   "metadata": {},
   "outputs": [],
   "source": [
    "# get_links(\"https://huggingface.co\")"
   ]
  },
  {
   "cell_type": "markdown",
   "metadata": {},
   "source": [
    "Get All Details function\n",
    "- Purpose: Fetches detailed content from the landing page and relevant links.\n",
    "- Input: url (landing page URL).\n",
    "- Steps:\n",
    "    1. Fetches the landing page content using Website(url).get_contents().\n",
    "    2. Calls get_links(url) to retrieve and categorize relevant links.\n",
    "    3. Iterates over the links, fetches their content, and appends it to the result.\n",
    "- Output: Combined content of the landing page and relevant links."
   ]
  },
  {
   "cell_type": "code",
   "execution_count": 17,
   "metadata": {},
   "outputs": [],
   "source": [
    "def get_all_details(url):\n",
    "    result = \"Landing page:\\n\"\n",
    "    result += Website(url).get_contents()\n",
    "    links = get_links(url)\n",
    "    print(\"Found links:\", links)\n",
    "    for link in links[\"links\"]:\n",
    "        result += f\"\\n\\n{link['type']}\\n\"\n",
    "        result += Website(link[\"url\"]).get_contents()\n",
    "    return result\n",
    "\n",
    "# We pass in a URL\n",
    "# the function goes to the landing page\n",
    "# Then lists the contents of the landing page\n",
    "# Then calls the previously made function calling gpt 4-0 mini\n",
    "# Prints that the links are found\n",
    "# Then goes through the list of links and performs the same process again"
   ]
  },
  {
   "cell_type": "code",
   "execution_count": null,
   "metadata": {},
   "outputs": [],
   "source": [
    "# print(get_all_details(\"https://huggingface.co\"))"
   ]
  },
  {
   "cell_type": "markdown",
   "metadata": {},
   "source": [
    "New System Prompt"
   ]
  },
  {
   "cell_type": "code",
   "execution_count": 19,
   "metadata": {},
   "outputs": [],
   "source": [
    "system_prompt = \"You are an assistant that analyzes the contents of several relevant pages from a company website \\\n",
    "and creates a short brochure about the company for prospective customers, investors and recruits. Respond in markdown.\\\n",
    "Include details of company culture, customers and careers/jobs if you have the information.\"\n",
    "\n",
    "# Or uncomment the lines below for a more humorous brochure - this demonstrates how easy it is to incorporate 'tone':\n",
    "\n",
    "# system_prompt = \"You are an assistant that analyzes the contents of several relevant pages from a company website \\\n",
    "# and creates a short humorous, entertaining, jokey brochure about the company for prospective customers, investors and recruits. Respond in markdown.\\\n",
    "# Include details of company culture, customers and careers/jobs if you have the information.\""
   ]
  },
  {
   "cell_type": "markdown",
   "metadata": {},
   "source": [
    "Get Brochure User Prompt Function\n",
    "- Purpose: Constructs the user-specific prompt for the GPT model.\n",
    "- Input: company_name and url.\n",
    "- Steps:\n",
    "    1. Calls get_all_details(url) to retrieve the content of the landing page and relevant links.\n",
    "    2. Constructs a prompt combining the company name and the content retrieved from get_all_details.\n",
    "    3. Truncates the prompt to 5,000 characters if necessary.\n",
    "- Output: A detailed user prompt for generating the brochure."
   ]
  },
  {
   "cell_type": "code",
   "execution_count": 20,
   "metadata": {},
   "outputs": [],
   "source": [
    "def get_brochure_user_prompt(company_name, url):\n",
    "    user_prompt = f\"You are looking at a company called: {company_name}\\n\"\n",
    "    user_prompt += f\"Here are the contents of its landing page and other relevant pages; use this information to build a short brochure of the company in markdown.\\n\"\n",
    "    user_prompt += get_all_details(url)\n",
    "    user_prompt = user_prompt[:5_000] # Truncate if more than 5,000 characters\n",
    "    return user_prompt"
   ]
  },
  {
   "cell_type": "code",
   "execution_count": 21,
   "metadata": {},
   "outputs": [
    {
     "name": "stdout",
     "output_type": "stream",
     "text": [
      "Found links: {'links': [{'type': 'home page', 'url': 'https://huggingface.co'}, {'type': 'about page', 'url': 'https://huggingface.co/huggingface'}, {'type': 'careers page', 'url': 'https://apply.workable.com/huggingface/'}, {'type': 'enterprise page', 'url': 'https://huggingface.co/enterprise'}, {'type': 'pricing page', 'url': 'https://huggingface.co/pricing'}, {'type': 'blog page', 'url': 'https://huggingface.co/blog'}, {'type': 'support/community page', 'url': 'https://discuss.huggingface.co'}, {'type': 'GitHub page', 'url': 'https://github.com/huggingface'}, {'type': 'Twitter page', 'url': 'https://twitter.com/huggingface'}, {'type': 'LinkedIn page', 'url': 'https://www.linkedin.com/company/huggingface/'}]}\n"
     ]
    },
    {
     "data": {
      "text/plain": [
       "'You are looking at a company called: HuggingFace\\nHere are the contents of its landing page and other relevant pages; use this information to build a short brochure of the company in markdown.\\nLanding page:\\nWebpage Title:\\nHugging Face – The AI community building the future.\\nWebpage Contents:\\nHugging Face\\nModels\\nDatasets\\nSpaces\\nPosts\\nDocs\\nEnterprise\\nPricing\\nLog In\\nSign Up\\nThe AI community building the future.\\nThe platform where the machine learning community collaborates on models, datasets, and applications.\\nTrending on\\nthis week\\nModels\\nhexgrad/Kokoro-82M\\nUpdated\\n3 days ago\\n•\\n27.4k\\n•\\n2.09k\\nopenbmb/MiniCPM-o-2_6\\nUpdated\\nabout 15 hours ago\\n•\\n18.3k\\n•\\n682\\ndeepseek-ai/DeepSeek-R1\\nUpdated\\nabout 9 hours ago\\n•\\n616\\nMiniMaxAI/MiniMax-Text-01\\nUpdated\\n4 days ago\\n•\\n2.7k\\n•\\n438\\nmicrosoft/phi-4\\nUpdated\\n12 days ago\\n•\\n134k\\n•\\n1.47k\\nBrowse 400k+ models\\nSpaces\\nRunning\\non\\nZero\\n1.24k\\n❤️\\nKokoro TTS\\nNow in 5 languages!\\nRunning\\non\\nZero\\n3.16k\\n🏢\\nTRELLIS\\nScalable and Versatile 3D Generation from images\\nRunning\\non\\nZero\\n1.76k\\n📈\\nIC Light V2\\nRunning\\non\\nCPU Upgrade\\n6.87k\\n👕\\nKolors Virtual Try-On\\nRunning\\n739\\n🔍😊\\nSearch Your Face Online\\nTrack your online presence with reverse face search\\nBrowse 150k+ applications\\nDatasets\\nfka/awesome-chatgpt-prompts\\nUpdated\\n15 days ago\\n•\\n5.97k\\n•\\n6.97k\\nNovaSky-AI/Sky-T1_data_17k\\nUpdated\\n6 days ago\\n•\\n1.99k\\n•\\n132\\nHumanLLMs/Human-Like-DPO-Dataset\\nUpdated\\n8 days ago\\n•\\n961\\n•\\n124\\nDAMO-NLP-SG/multimodal_textbook\\nUpdated\\n9 days ago\\n•\\n9.9k\\n•\\n118\\nFreedomIntelligence/medical-o1-reasoning-SFT\\nUpdated\\n8 days ago\\n•\\n949\\n•\\n77\\nBrowse 100k+ datasets\\nThe Home of Machine Learning\\nCreate, discover and collaborate on ML better.\\nThe collaboration platform\\nHost and collaborate on unlimited public models, datasets and applications.\\nMove faster\\nWith the HF Open source stack.\\nExplore all modalities\\nText, image, video, audio or even 3D.\\nBuild your portfolio\\nShare your work with the world and build your ML profile.\\nSign Up\\nAccelerate your ML\\nWe provide paid Compute and Enterprise solutions.\\nCompute\\nDeploy on optimized\\nInference Endpoints\\nor update your\\nSpaces applications\\nto a GPU in a few clicks.\\nView pricing\\nStarting at $0.60/hour for GPU\\nEnterprise\\nGive your team the most advanced platform to build AI with enterprise-grade security, access controls and\\n\\t\\t\\tdedicated support.\\nGetting started\\nStarting at $20/user/month\\nSingle Sign-On\\nRegions\\nPriority Support\\nAudit Logs\\nResource Groups\\nPrivate Datasets Viewer\\nMore than 50,000 organizations are using Hugging Face\\nAi2\\nEnterprise\\nnon-profit\\n•\\n378 models\\n•\\n1.92k followers\\nAI at Meta\\nEnterprise\\ncompany\\n•\\n2.06k models\\n•\\n4.19k followers\\nAmazon Web Services\\ncompany\\n•\\n20 models\\n•\\n2.55k followers\\nGoogle\\ncompany\\n•\\n913 models\\n•\\n6.67k followers\\nIntel\\ncompany\\n•\\n218 models\\n•\\n2.16k followers\\nMicrosoft\\ncompany\\n•\\n353 models\\n•\\n7.52k followers\\nGrammarly\\ncompany\\n•\\n10 models\\n•\\n112 followers\\nWriter\\nEnterprise\\ncompany\\n•\\n18 models\\n•\\n199 followers\\nOur Open Source\\nWe are building the foundation of ML tooling with the community.\\nTransformers\\n137,797\\nState-of-the-art ML for Pytorch, TensorFlow, and JAX.\\nDiffusers\\n27,190\\nState-of-the-art diffusion models for image and audio generation in PyTorch.\\nSafetensors\\n3,013\\nSimple, safe way to store and distribute neural networks weights safely and quickly.\\nHub Python Library\\n2,240\\nClient library for the HF Hub: manage repositories from your Python runtime.\\nTokenizers\\n9,268\\nFast tokenizers, optimized for both research and production.\\nPEFT\\n17,017\\nParameter efficient finetuning methods for large models.\\nTransformers.js\\n12,623\\nState-of-the-art Machine Learning for the web. Run Transformers directly in your browser, with no need for a server.\\ntimm\\n32,936\\nState-of-the-art computer vision models, layers, optimizers, training/evaluation, and utilities.\\nTRL\\n10,643\\nTrain transformer language models with reinforcement learning.\\nDatasets\\n19,474\\nAccess and share datasets for computer vision, audio, and NLP tasks.\\nText Generation Inference\\n9,609\\nToolkit to serve Large Language Models.\\nAccelerate\\n8,192\\nEasily train and use PyTorch models with multi-GPU, TPU, mixed-precision.\\nSystem theme\\nWebsite\\nModels\\nDatasets\\nSpaces\\nTasks\\nInference Endpoints\\nHuggingChat\\nCompany\\nAbout\\nBrand assets\\nTerms of service\\nPrivacy\\nJobs\\nPress\\nResources\\nLearn\\nDocumentation\\nBlog\\nForum\\nService Status\\nSocial\\nGitHub\\nTwitter\\nLinkedIn\\nDiscord\\nZhihu\\nWeChat\\n\\n\\n\\nhome page\\nWebpage Title:\\nHugging Face – The AI community building the future.\\nWebpage Contents:\\nHugging Face\\nModels\\nDatasets\\nSpaces\\nPosts\\nDocs\\nEnterprise\\nPricing\\nLog In\\nSign Up\\nThe AI community building the future.\\nThe platform where the machine learning community collaborates on models, datasets, and applications.\\nTrending on\\nthis week\\nModels\\nhexgrad/Kokoro-82M\\nUpdated\\n3 days ago\\n•\\n27.4k\\n•\\n2.09k\\nopenbmb/MiniCPM-o-2_6\\nUpdated\\nabout 15 hours ago\\n•\\n18.3k\\n•\\n682\\ndeepseek-ai/DeepSeek-R1\\nUpdated\\nabout 9 hours ago\\n•\\n616\\nMiniMaxAI/MiniMax-Text-01\\nUpdated\\n4 days ago\\n•\\n2.7k\\n•\\n438\\nmicrosoft/phi-4\\nUpdated\\n12 days ago\\n•\\n134k\\n•\\n1.47k\\nBrowse 400k+ models\\nSpaces\\nRunning\\non\\nZero\\n1.24k\\n❤️\\nKo'"
      ]
     },
     "execution_count": 21,
     "metadata": {},
     "output_type": "execute_result"
    }
   ],
   "source": [
    "get_brochure_user_prompt(\"HuggingFace\", \"https://huggingface.co\")"
   ]
  },
  {
   "cell_type": "markdown",
   "metadata": {},
   "source": [
    "Create Brochure Function\n",
    "- Generates the final Brochure using OpenAI's GPT Model\n",
    "- input: company_name and url\n",
    "- Steps: \n",
    "    1. Calls get_brochure_user_prompt to generate a detailed user prompt.\n",
    "    2. Sends the system and user prompts to OpenAI's API.\n",
    "    3. Displays the markdown output using Markdown()"
   ]
  },
  {
   "cell_type": "code",
   "execution_count": 22,
   "metadata": {},
   "outputs": [],
   "source": [
    "def create_brochure(company_name, url):\n",
    "    response = openai.chat.completions.create(\n",
    "        model=MODEL,\n",
    "        messages=[\n",
    "            {\"role\": \"system\", \"content\": system_prompt},\n",
    "            {\"role\": \"user\", \"content\": get_brochure_user_prompt(company_name, url)}\n",
    "          ],\n",
    "    )\n",
    "    result = response.choices[0].message.content\n",
    "    display(Markdown(result))"
   ]
  },
  {
   "cell_type": "code",
   "execution_count": 23,
   "metadata": {},
   "outputs": [
    {
     "name": "stdout",
     "output_type": "stream",
     "text": [
      "Found links: {'links': [{'type': 'about page', 'url': 'https://huggingface.com/huggingface'}, {'type': 'careers page', 'url': 'https://apply.workable.com/huggingface/'}, {'type': 'company page', 'url': 'https://www.linkedin.com/company/huggingface/'}]}\n"
     ]
    },
    {
     "data": {
      "text/markdown": [
       "# Hugging Face Brochure\n",
       "\n",
       "---\n",
       "\n",
       "## Welcome to Hugging Face\n",
       "\n",
       "**The AI community building the future.**\n",
       "\n",
       "At Hugging Face, we are a vibrant machine learning community that empowers innovators, researchers, and developers to collaborate seamlessly on cutting-edge models, datasets, and applications. Our platform serves as the heartbeat of AI and machine learning advancement, allowing members to create, discover, and share their work with the world.\n",
       "\n",
       "---\n",
       "\n",
       "## Our Offerings\n",
       "\n",
       "### Collaboration Platform\n",
       "- **Models**: Over 400k models available for exploration and collaboration, including state-of-the-art solutions that run on various modalities like text, image, video, and audio.\n",
       "- **Datasets**: Access a vast collection of over 100k datasets optimized for a variety of machine learning tasks.\n",
       "- **Spaces**: Host and run applications effortlessly, with a focus on user experience and scalability.\n",
       "\n",
       "### Innovations from Hugging Face\n",
       "- **Transformers**: Leverage the leading ML library compatible with Pytorch, TensorFlow, and JAX.\n",
       "- **Diffusers**: Explore advanced diffusion models for generating images and audio.\n",
       "- **Tokens and more**: Fast tokenizers and tools designed for both research and production settings.\n",
       "\n",
       "---\n",
       "\n",
       "## Who We Serve\n",
       "\n",
       "With over **50,000 organizations** utilizing our platform, including industry giants like Meta, Amazon Web Services, Google, and Microsoft, we foster a rich collaborative environment for individuals and enterprises alike. Whether you are a developer, data scientist, or enterprise leader, Hugging Face has the resources to meet your AI and ML needs.\n",
       "\n",
       "---\n",
       "\n",
       "## Company Culture\n",
       "\n",
       "At Hugging Face, we believe in an open-source ethos and community-driven development. We prioritize collaboration, transparency, and continuous learning, fostering a work environment where diversity of thought is celebrated, and innovation thrives. Our mission is not just to provide artificial intelligence tools but to empower every contributor in this exciting field.\n",
       "\n",
       "---\n",
       "\n",
       "## Careers at Hugging Face\n",
       "\n",
       "We are always on the lookout for passionate individuals to join our growing team! Whether you're a developer, researcher, or creative thinker, explore various opportunities to contribute to an exciting and dynamic company focused on shaping the future of AI. \n",
       "\n",
       "- **Current Opportunities**: [Explore Jobs](https://huggingface.co/jobs)\n",
       "\n",
       "---\n",
       "\n",
       "## Join Us\n",
       "\n",
       "Become a part of a forward-thinking community that is dedicated to advancing the world of artificial intelligence. Collaborate, innovate, and share your creations with Hugging Face. \n",
       "\n",
       "- **Sign Up Today**: [Get Started](https://huggingface.co/join)\n",
       "\n",
       "---\n",
       "\n",
       "### Stay Connected\n",
       "Follow us on:\n",
       "- [Twitter](https://twitter.com/huggingface)\n",
       "- [LinkedIn](https://linkedin.com/company/huggingface)\n",
       "- [GitHub](https://github.com/huggingface)\n",
       "\n",
       "For more information, visit our website: [Hugging Face](https://huggingface.co)\n",
       "\n",
       "--- \n",
       "\n",
       "**Hugging Face: The AI community building the future.**"
      ],
      "text/plain": [
       "<IPython.core.display.Markdown object>"
      ]
     },
     "metadata": {},
     "output_type": "display_data"
    }
   ],
   "source": [
    "create_brochure(\"HuggingFace\", \"https://huggingface.com\")"
   ]
  },
  {
   "cell_type": "markdown",
   "metadata": {},
   "source": [
    "Improvement to stream the results from OpenAI"
   ]
  },
  {
   "cell_type": "code",
   "execution_count": 24,
   "metadata": {},
   "outputs": [],
   "source": [
    "def stream_brochure(company_name, url):\n",
    "    stream = openai.chat.completions.create(\n",
    "        model=MODEL,\n",
    "        messages=[\n",
    "            {\"role\": \"system\", \"content\": system_prompt},\n",
    "            {\"role\": \"user\", \"content\": get_brochure_user_prompt(company_name, url)}\n",
    "          ],\n",
    "        stream=True\n",
    "    )\n",
    "    \n",
    "    response = \"\"\n",
    "    display_handle = display(Markdown(\"\"), display_id=True)\n",
    "    for chunk in stream:\n",
    "        response += chunk.choices[0].delta.content or ''\n",
    "        response = response.replace(\"```\",\"\").replace(\"markdown\", \"\")\n",
    "        update_display(Markdown(response), display_id=display_handle.display_id)"
   ]
  },
  {
   "cell_type": "code",
   "execution_count": 25,
   "metadata": {},
   "outputs": [
    {
     "name": "stdout",
     "output_type": "stream",
     "text": [
      "Found links: {'links': [{'type': 'home page', 'url': 'https://huggingface.co'}, {'type': 'about page', 'url': 'https://huggingface.co/huggingface'}, {'type': 'careers page', 'url': 'https://apply.workable.com/huggingface/'}, {'type': 'blog page', 'url': 'https://huggingface.co/blog'}, {'type': 'community page', 'url': 'https://discuss.huggingface.co'}, {'type': 'GitHub page', 'url': 'https://github.com/huggingface'}, {'type': 'Twitter page', 'url': 'https://twitter.com/huggingface'}, {'type': 'LinkedIn page', 'url': 'https://www.linkedin.com/company/huggingface/'}]}\n"
     ]
    },
    {
     "data": {
      "text/markdown": [
       "# Hugging Face Brochure\n",
       "\n",
       "---\n",
       "\n",
       "## About Us\n",
       "\n",
       "**Hugging Face** is at the forefront of the AI community, pioneering a collaborative platform that unites individuals and organizations in their machine learning endeavors. Our aim is to empower researchers, developers, and enterprises to create, discover, and share models, datasets, and applications, all while accelerating innovation in AI.\n",
       "\n",
       "## Our Offerings\n",
       "\n",
       "- **Models:** Access over 400,000 models to jumpstart your machine learning projects.\n",
       "- **Datasets:** Explore a rich repository of more than 100,000 datasets tailored for various tasks.\n",
       "- **Spaces:** Collaborate and showcase applications in a user-friendly environment.\n",
       "- **Enterprise Solutions:** Delivering advanced platforms for organizations that require robust performance and security.\n",
       "\n",
       "### Pricing\n",
       "\n",
       "- **Compute Services:** Starting from $0.60/hour for GPU usage.\n",
       "- **Enterprise Solutions:** Starting at $20/user/month, with features like Single Sign-On and priority support.\n",
       "\n",
       "## Our Customers\n",
       "\n",
       "Hugging Face is proud to serve over **50,000 organizations**, including industry giants such as:\n",
       "\n",
       "- **Meta**\n",
       "- **Amazon Web Services**\n",
       "- **Google**\n",
       "- **Microsoft**\n",
       "  \n",
       "These companies leverage our tools and community for cutting-edge AI development.\n",
       "\n",
       "## Open Source Commitment\n",
       "\n",
       "We are dedicated to building a strong foundation for ML tooling through community collaboration. Our open-source projects include:\n",
       "\n",
       "- **Transformers:** Over 137,000 models for Pytorch, TensorFlow, and JAX.\n",
       "- **Diffusers:** State-of-the-art models for image and audio generation.\n",
       "- **Safetensors:** A secure method for storing and distributing neural network weights.\n",
       "\n",
       "## Company Culture\n",
       "\n",
       "At Hugging Face, we foster a **supportive and inclusive environment** where creativity thrives. Our culture encourages collaboration, knowledge sharing, and pushing boundaries to explore new horizons in AI. We believe in the power of community and aim to build a place where everyone has a voice.\n",
       "\n",
       "## Careers\n",
       "\n",
       "Looking to make an impact in the AI space? Hugging Face is always on the lookout for passionate individuals to join our team. We offer various roles catering to different skill sets, with opportunities for growth and innovation.\n",
       "\n",
       "---\n",
       "\n",
       "**Join us in building the future of AI!**\n",
       "\n",
       "[Sign Up Now](#) | [Explore Our Resources](#)\n",
       "\n",
       "--- \n",
       "\n",
       "Feel free to reach out for more information on how Hugging Face can assist you in your AI journey!"
      ],
      "text/plain": [
       "<IPython.core.display.Markdown object>"
      ]
     },
     "metadata": {},
     "output_type": "display_data"
    }
   ],
   "source": [
    "stream_brochure(\"HuggingFace\", \"https://huggingface.co\")"
   ]
  }
 ],
 "metadata": {
  "kernelspec": {
   "display_name": "llms",
   "language": "python",
   "name": "python3"
  },
  "language_info": {
   "codemirror_mode": {
    "name": "ipython",
    "version": 3
   },
   "file_extension": ".py",
   "mimetype": "text/x-python",
   "name": "python",
   "nbconvert_exporter": "python",
   "pygments_lexer": "ipython3",
   "version": "3.11.11"
  }
 },
 "nbformat": 4,
 "nbformat_minor": 2
}
