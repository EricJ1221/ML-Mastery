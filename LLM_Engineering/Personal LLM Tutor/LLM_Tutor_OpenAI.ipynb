{
 "cells": [
  {
   "cell_type": "markdown",
   "metadata": {},
   "source": [
    "#### This program will function as an LLM Tutor utilizing the OpenAI API"
   ]
  },
  {
   "cell_type": "markdown",
   "metadata": {},
   "source": [
    "Import Statements"
   ]
  },
  {
   "cell_type": "code",
   "execution_count": 15,
   "metadata": {},
   "outputs": [],
   "source": [
    "import os\n",
    "import requests\n",
    "import json\n",
    "from typing import List\n",
    "from dotenv import load_dotenv\n",
    "from bs4 import BeautifulSoup\n",
    "from IPython.display import Markdown, display, update_display\n",
    "from openai import OpenAI"
   ]
  },
  {
   "cell_type": "markdown",
   "metadata": {},
   "source": [
    "Load OpenAI API Key"
   ]
  },
  {
   "cell_type": "code",
   "execution_count": 16,
   "metadata": {},
   "outputs": [
    {
     "name": "stdout",
     "output_type": "stream",
     "text": [
      "API key looks good so far\n"
     ]
    }
   ],
   "source": [
    "load_dotenv(override=True)\n",
    "api_key = os.getenv('OPENAI_API_KEY')\n",
    "\n",
    "if api_key and api_key.startswith('sk-proj-') and len(api_key)>10:\n",
    "    print(\"API key looks good so far\")\n",
    "else:\n",
    "    print(\"There might be a problem with your API key? Please visit the troubleshooting notebook!\")\n",
    "    \n",
    "MODEL = 'gpt-4o-mini'\n",
    "openai = OpenAI()"
   ]
  },
  {
   "cell_type": "markdown",
   "metadata": {},
   "source": [
    "#### Setting up the Environment"
   ]
  },
  {
   "cell_type": "markdown",
   "metadata": {},
   "source": [
    "System Prompt"
   ]
  },
  {
   "cell_type": "code",
   "execution_count": 17,
   "metadata": {},
   "outputs": [],
   "source": [
    "# The system prompt is what explains the context of the situation to the frontier model\n",
    "# It tells them what kind of task they are performing and what tone to use\n",
    "\n",
    "system_prompt = \"You are provided with a question.. \\\n",
    "    You are going to best answer the question as \\\n",
    "    if you are a tutor of the relevant subject matter.\\n\"\n",
    "system_prompt += \"You should respond with a normal conversational prose\""
   ]
  },
  {
   "cell_type": "markdown",
   "metadata": {},
   "source": [
    "User Prompt"
   ]
  },
  {
   "cell_type": "code",
   "execution_count": 18,
   "metadata": {},
   "outputs": [],
   "source": [
    "# A function that writes a User Prompt that asks for summaries of websites:\n",
    "# The user prompt is the actual conversation itself\n",
    "# The converstaion start and the role of the LLM is to figure out what way to respond to the user prompt in the context of the system prompt\n",
    "\n",
    "def user_prompt_for(question):\n",
    "    user_prompt = f\"You are looking at a question {question}\"\n",
    "    user_prompt += \"\\nThis question is about how to understand a piece of code; \\\n",
    "please provide a walkthrough on what this code is doing.\\n\\n\"\n",
    "    user_prompt += question\n",
    "    return user_prompt"
   ]
  },
  {
   "cell_type": "markdown",
   "metadata": {},
   "source": [
    "Define Answer for Question Function"
   ]
  },
  {
   "cell_type": "code",
   "execution_count": 19,
   "metadata": {},
   "outputs": [],
   "source": [
    "# Create a messages list using the same format that we used for OpenAI\n",
    "\n",
    "def answer_for_question(question):\n",
    "    return [\n",
    "        {\"role\": \"system\", \"content\": system_prompt},\n",
    "        {\"role\": \"user\", \"content\": user_prompt_for(question)}\n",
    "    ]"
   ]
  },
  {
   "cell_type": "markdown",
   "metadata": {},
   "source": [
    "Define Question List"
   ]
  },
  {
   "cell_type": "code",
   "execution_count": 20,
   "metadata": {},
   "outputs": [],
   "source": [
    "question = \"\"\"\n",
    "Please explain what this code does and why:\n",
    "yield from {book.get(\"author\") for book in books if book.get(\"author\")}\n",
    "\"\"\""
   ]
  },
  {
   "cell_type": "markdown",
   "metadata": {},
   "source": [
    "Answer Question Function"
   ]
  },
  {
   "cell_type": "code",
   "execution_count": 21,
   "metadata": {},
   "outputs": [],
   "source": [
    "# And now: call the OpenAI API. You will get very familiar with this!\n",
    "\n",
    "def answer_question(question):\n",
    "    response = openai.chat.completions.create(\n",
    "        model = \"gpt-4o-mini\",\n",
    "        messages = question\n",
    "    )\n",
    "    return response.choices[0].message.content"
   ]
  },
  {
   "cell_type": "markdown",
   "metadata": {},
   "source": [
    "Displaying Answer Function"
   ]
  },
  {
   "cell_type": "code",
   "execution_count": 22,
   "metadata": {},
   "outputs": [],
   "source": [
    "# A function to display this nicely in the Jupyter output, using markdown\n",
    "\n",
    "def display_answer(question):\n",
    "    # Get the structured prompt for the question\n",
    "    structured_prompt = answer_for_question(question)\n",
    "    # Generate the answer using the appropriate function\n",
    "    answer = answer_question(structured_prompt)\n",
    "    # Display the answer as Markdown\n",
    "    display(Markdown(answer))\n"
   ]
  },
  {
   "cell_type": "code",
   "execution_count": 23,
   "metadata": {},
   "outputs": [
    {
     "data": {
      "text/markdown": [
       "Sure! Let's break down the code step by step. \n",
       "\n",
       "The code you provided is a Python expression that utilizes a generator function through the `yield from` statement, alongside a set comprehension. Here’s a walk-through of what each part does:\n",
       "\n",
       "1. **Set Comprehension**: \n",
       "   The expression `{book.get(\"author\") for book in books if book.get(\"author\")}` is a set comprehension. This constructs a set of unique authors from a collection called `books`. \n",
       "   \n",
       "   - `for book in books`: This loops over each item in the collection `books`.\n",
       "   - `book.get(\"author\")`: This tries to retrieve the value associated with the key \"author\" from each `book` dictionary (assuming each item in `books` is a dictionary).\n",
       "   - `if book.get(\"author\")`: This conditional ensures that only those authors that are defined (not `None` or empty) are included. If an author is not present, `book.get(\"author\")` will return `None`, and that will not be added to the set.\n",
       "\n",
       "2. **Yield From**:\n",
       "   The keyword `yield` is used in Python to turn a function into a generator, which can yield results one at a time and pause its execution. The `yield from` statement is a way to yield all values from an iterable, in this case, the set produced by the comprehension. \n",
       "\n",
       "   So in simpler terms, `yield from ...` takes each item from the set of authors and yields it one by one. \n",
       "\n",
       "3. **Overall Effect**:\n",
       "   The entire line of code constructs a set of unique authors from the `books` list and yields each author in turn. This could be useful, for example, if you want to create a function that processes or displays each unique author from a collection of books.\n",
       "\n",
       "**Why Use This?**:\n",
       "- **Uniqueness**: Using a set ensures that there are no duplicate authors. If the same author appears in multiple `book` entries, they will only be yielded once.\n",
       "- **Conditional Filtering**: The conditional inside the comprehension effectively filters out books without an author, making your output cleaner and more meaningful.\n",
       "- **Efficiency**: By using a generator, it allows you to process authors one at a time, which can be more memory efficient especially if `books` is a large collection.\n",
       "\n",
       "In summary, this piece of code is a compact and efficient way to extract and yield unique authors from a collection of books while filtering out any entries that lack an author."
      ],
      "text/plain": [
       "<IPython.core.display.Markdown object>"
      ]
     },
     "metadata": {},
     "output_type": "display_data"
    }
   ],
   "source": [
    "display_answer(question)"
   ]
  },
  {
   "cell_type": "markdown",
   "metadata": {},
   "source": [
    "Streaming the result from OpenAI"
   ]
  },
  {
   "cell_type": "code",
   "execution_count": 24,
   "metadata": {},
   "outputs": [],
   "source": [
    "def stream_answer(question):\n",
    "    stream = openai.chat.completions.create(\n",
    "        model=MODEL,\n",
    "        messages=[\n",
    "            {\"role\": \"system\", \"content\": system_prompt},\n",
    "            {\"role\": \"user\", \"content\": user_prompt_for(question)}\n",
    "          ],\n",
    "        stream=True\n",
    "    )\n",
    "    \n",
    "    response = \"\"\n",
    "    display_handle = display(Markdown(\"\"), display_id=True)\n",
    "    for chunk in stream:\n",
    "        response += chunk.choices[0].delta.content or ''\n",
    "        response = response.replace(\"```\",\"\").replace(\"markdown\", \"\")\n",
    "        update_display(Markdown(response), display_id=display_handle.display_id)"
   ]
  },
  {
   "cell_type": "code",
   "execution_count": 25,
   "metadata": {},
   "outputs": [
    {
     "data": {
      "text/markdown": [
       "Sure! Let's break down the piece of code you've presented:\n",
       "\n",
       "python\n",
       "yield from {book.get(\"author\") for book in books if book.get(\"author\")}\n",
       "\n",
       "\n",
       "### 1. **Contextual Setup**\n",
       "This code snippet appears to be part of a generator function. The `yield from` statement is used in Python to yield all values from an iterable (like a list, set, or another generator). In this case, it's yielding values from a set comprehension.\n",
       "\n",
       "### 2. **The Set Comprehension**\n",
       "Inside the `yield from`, we have a set comprehension:\n",
       "\n",
       "python\n",
       "{book.get(\"author\") for book in books if book.get(\"author\")}\n",
       "\n",
       "\n",
       "Breaking this down:\n",
       "\n",
       "- **`for book in books`**: This iterates over a collection called `books`, where each `book` is likely a dictionary representing a book's details (like title, author, year, etc.).\n",
       "\n",
       "- **`book.get(\"author\")`**: This method is called on the dictionary `book`. The `get` method is used to retrieve the value associated with the key `\"author\"`. If the key is not present, it returns `None`.\n",
       "\n",
       "- **`if book.get(\"author\")`**: This clause filters out any books that do not have an author. Essentially, if `book.get(\"author\")` returns a valid author name (not `None` or empty), that author's name will be included in the set.\n",
       "\n",
       "### 3. **The Resulting Set**\n",
       "The result of the set comprehension is a set of unique author names. Using a set is beneficial here because it automatically removes any duplicate author names — if two or more books have the same author, that author's name will appear only once in the set.\n",
       "\n",
       "### 4. **Using yield from**\n",
       "After creating this set of authors, the `yield from` expression will yield each author in the set one by one. This allows the generator to provide a sequence of author names rather than returning the entire set at once.\n",
       "\n",
       "### 5. **Why Use This Code?**\n",
       "- **Efficiency**: The use of `yield from` generates values on the fly, which can be more memory-efficient compared to creating a complete list or set in memory before returning.\n",
       "\n",
       "- **Uniqueness**: The choice of a set instead of a list ensures that you don't have duplicate authors in the output.\n",
       "\n",
       "- **Readability**: This concise syntax is often more readable and expressive, clearly demonstrating the intention to gather authors from a collection of books.\n",
       "\n",
       "### Summary\n",
       "In summary, this code yields each unique author from a collection of books, skipping any books without an author. It efficiently collects author names into a set and returns them one at a time through a generator. This approach captures the essence of Python's expressive capabilities regarding collections and generators!"
      ],
      "text/plain": [
       "<IPython.core.display.Markdown object>"
      ]
     },
     "metadata": {},
     "output_type": "display_data"
    }
   ],
   "source": [
    "stream_answer(question)"
   ]
  }
 ],
 "metadata": {
  "kernelspec": {
   "display_name": "llms",
   "language": "python",
   "name": "python3"
  },
  "language_info": {
   "codemirror_mode": {
    "name": "ipython",
    "version": 3
   },
   "file_extension": ".py",
   "mimetype": "text/x-python",
   "name": "python",
   "nbconvert_exporter": "python",
   "pygments_lexer": "ipython3",
   "version": "3.11.11"
  }
 },
 "nbformat": 4,
 "nbformat_minor": 2
}
